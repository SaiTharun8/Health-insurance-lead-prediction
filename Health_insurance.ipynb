{
 "cells": [
  {
   "cell_type": "code",
   "execution_count": 1,
   "id": "00aae945",
   "metadata": {},
   "outputs": [],
   "source": [
    "import pandas as pd, numpy as np, matplotlib.pyplot as plt,io,seaborn as sns\n",
    "%matplotlib inline"
   ]
  },
  {
   "cell_type": "code",
   "execution_count": 2,
   "id": "f311eebc",
   "metadata": {},
   "outputs": [
    {
     "name": "stdout",
     "output_type": "stream",
     "text": [
      "C:\\Users\\91905\\OneDrive\\Desktop\\D.S\\Data sets\\Health Insurance\n"
     ]
    }
   ],
   "source": [
    "%cd \"C:\\Users\\91905\\OneDrive\\Desktop\\D.S\\Data sets\\Health Insurance\""
   ]
  },
  {
   "cell_type": "code",
   "execution_count": 3,
   "id": "643ca49f",
   "metadata": {},
   "outputs": [],
   "source": [
    "insurance_train=pd.read_csv('train.csv')"
   ]
  },
  {
   "cell_type": "code",
   "execution_count": 4,
   "id": "a3b3fade",
   "metadata": {},
   "outputs": [],
   "source": [
    "insurance_test=pd.read_csv('test.csv')"
   ]
  },
  {
   "cell_type": "markdown",
   "id": "1041d03d",
   "metadata": {},
   "source": [
    "This data is about a company named FINMAN financial services who wants to cross-sell insurance to their existing customers who  may or may not hold insurance policies with the company. It recomend health insurances based on the profile  of the customers who will approach them on their websites.\n",
    "\n",
    "Customers who fill up the form, their response considered as positive and who are not filling there is response is considered as negetive."
   ]
  },
  {
   "cell_type": "code",
   "execution_count": 5,
   "id": "90626aac",
   "metadata": {},
   "outputs": [
    {
     "name": "stdout",
     "output_type": "stream",
     "text": [
      "<class 'pandas.core.frame.DataFrame'>\n",
      "RangeIndex: 21805 entries, 0 to 21804\n",
      "Data columns (total 13 columns):\n",
      " #   Column                   Non-Null Count  Dtype  \n",
      "---  ------                   --------------  -----  \n",
      " 0   ID                       21805 non-null  int64  \n",
      " 1   City_Code                21805 non-null  object \n",
      " 2   Region_Code              21805 non-null  int64  \n",
      " 3   Accomodation_Type        21805 non-null  object \n",
      " 4   Reco_Insurance_Type      21805 non-null  object \n",
      " 5   Upper_Age                21805 non-null  int64  \n",
      " 6   Lower_Age                21805 non-null  int64  \n",
      " 7   Is_Spouse                21805 non-null  object \n",
      " 8   Health Indicator         16778 non-null  object \n",
      " 9   Holding_Policy_Duration  13202 non-null  object \n",
      " 10  Holding_Policy_Type      13202 non-null  float64\n",
      " 11  Reco_Policy_Cat          21805 non-null  int64  \n",
      " 12  Reco_Policy_Premium      21805 non-null  float64\n",
      "dtypes: float64(2), int64(5), object(6)\n",
      "memory usage: 2.2+ MB\n"
     ]
    }
   ],
   "source": [
    "insurance_test.info()"
   ]
  },
  {
   "cell_type": "code",
   "execution_count": 7,
   "id": "aa5d1230",
   "metadata": {},
   "outputs": [
    {
     "name": "stdout",
     "output_type": "stream",
     "text": [
      "<class 'pandas.core.frame.DataFrame'>\n",
      "RangeIndex: 50882 entries, 0 to 50881\n",
      "Data columns (total 14 columns):\n",
      " #   Column                   Non-Null Count  Dtype  \n",
      "---  ------                   --------------  -----  \n",
      " 0   ID                       50882 non-null  int64  \n",
      " 1   City_Code                50882 non-null  object \n",
      " 2   Region_Code              50882 non-null  int64  \n",
      " 3   Accomodation_Type        50882 non-null  object \n",
      " 4   Reco_Insurance_Type      50882 non-null  object \n",
      " 5   Upper_Age                50882 non-null  int64  \n",
      " 6   Lower_Age                50882 non-null  int64  \n",
      " 7   Is_Spouse                50882 non-null  object \n",
      " 8   Health Indicator         39191 non-null  object \n",
      " 9   Holding_Policy_Duration  30631 non-null  object \n",
      " 10  Holding_Policy_Type      30631 non-null  float64\n",
      " 11  Reco_Policy_Cat          50882 non-null  int64  \n",
      " 12  Reco_Policy_Premium      50882 non-null  float64\n",
      " 13  Response                 50882 non-null  int64  \n",
      "dtypes: float64(2), int64(6), object(6)\n",
      "memory usage: 5.4+ MB\n"
     ]
    }
   ],
   "source": [
    "insurance_train.info()"
   ]
  },
  {
   "cell_type": "code",
   "execution_count": 9,
   "id": "0dae7418",
   "metadata": {},
   "outputs": [],
   "source": [
    "insurance_test['Response']='test'\n",
    "#Adding the 'Response' column to the test data set with values filling as 'test' for \n",
    "#concating purpose of the both data sets into single data frame."
   ]
  },
  {
   "cell_type": "code",
   "execution_count": 11,
   "id": "0629fbb3",
   "metadata": {},
   "outputs": [
    {
     "name": "stdout",
     "output_type": "stream",
     "text": [
      "<class 'pandas.core.frame.DataFrame'>\n",
      "RangeIndex: 21805 entries, 0 to 21804\n",
      "Data columns (total 14 columns):\n",
      " #   Column                   Non-Null Count  Dtype  \n",
      "---  ------                   --------------  -----  \n",
      " 0   ID                       21805 non-null  int64  \n",
      " 1   City_Code                21805 non-null  object \n",
      " 2   Region_Code              21805 non-null  int64  \n",
      " 3   Accomodation_Type        21805 non-null  object \n",
      " 4   Reco_Insurance_Type      21805 non-null  object \n",
      " 5   Upper_Age                21805 non-null  int64  \n",
      " 6   Lower_Age                21805 non-null  int64  \n",
      " 7   Is_Spouse                21805 non-null  object \n",
      " 8   Health Indicator         16778 non-null  object \n",
      " 9   Holding_Policy_Duration  13202 non-null  object \n",
      " 10  Holding_Policy_Type      13202 non-null  float64\n",
      " 11  Reco_Policy_Cat          21805 non-null  int64  \n",
      " 12  Reco_Policy_Premium      21805 non-null  float64\n",
      " 13  Response                 21805 non-null  object \n",
      "dtypes: float64(2), int64(5), object(7)\n",
      "memory usage: 2.3+ MB\n"
     ]
    }
   ],
   "source": [
    "insurance_test.info()"
   ]
  },
  {
   "cell_type": "code",
   "execution_count": 12,
   "id": "119faeb4",
   "metadata": {},
   "outputs": [],
   "source": [
    "insurance_df=pd.concat([insurance_train,insurance_test],axis=0)\n",
    "#concating both the data frames by using Row wise concatenation"
   ]
  },
  {
   "cell_type": "markdown",
   "id": "b9c5afa6",
   "metadata": {},
   "source": [
    "# Descriptive Stats"
   ]
  },
  {
   "cell_type": "code",
   "execution_count": 13,
   "id": "ff26b13f",
   "metadata": {},
   "outputs": [
    {
     "name": "stdout",
     "output_type": "stream",
     "text": [
      "<class 'pandas.core.frame.DataFrame'>\n",
      "Int64Index: 72687 entries, 0 to 21804\n",
      "Data columns (total 14 columns):\n",
      " #   Column                   Non-Null Count  Dtype  \n",
      "---  ------                   --------------  -----  \n",
      " 0   ID                       72687 non-null  int64  \n",
      " 1   City_Code                72687 non-null  object \n",
      " 2   Region_Code              72687 non-null  int64  \n",
      " 3   Accomodation_Type        72687 non-null  object \n",
      " 4   Reco_Insurance_Type      72687 non-null  object \n",
      " 5   Upper_Age                72687 non-null  int64  \n",
      " 6   Lower_Age                72687 non-null  int64  \n",
      " 7   Is_Spouse                72687 non-null  object \n",
      " 8   Health Indicator         55969 non-null  object \n",
      " 9   Holding_Policy_Duration  43833 non-null  object \n",
      " 10  Holding_Policy_Type      43833 non-null  float64\n",
      " 11  Reco_Policy_Cat          72687 non-null  int64  \n",
      " 12  Reco_Policy_Premium      72687 non-null  float64\n",
      " 13  Response                 72687 non-null  object \n",
      "dtypes: float64(2), int64(5), object(7)\n",
      "memory usage: 8.3+ MB\n"
     ]
    }
   ],
   "source": [
    "insurance_df.info()"
   ]
  },
  {
   "cell_type": "code",
   "execution_count": 17,
   "id": "a622bf2d",
   "metadata": {},
   "outputs": [
    {
     "data": {
      "text/html": [
       "<div>\n",
       "<style scoped>\n",
       "    .dataframe tbody tr th:only-of-type {\n",
       "        vertical-align: middle;\n",
       "    }\n",
       "\n",
       "    .dataframe tbody tr th {\n",
       "        vertical-align: top;\n",
       "    }\n",
       "\n",
       "    .dataframe thead th {\n",
       "        text-align: right;\n",
       "    }\n",
       "</style>\n",
       "<table border=\"1\" class=\"dataframe\">\n",
       "  <thead>\n",
       "    <tr style=\"text-align: right;\">\n",
       "      <th></th>\n",
       "      <th>ID</th>\n",
       "      <th>City_Code</th>\n",
       "      <th>Region_Code</th>\n",
       "      <th>Accomodation_Type</th>\n",
       "      <th>Reco_Insurance_Type</th>\n",
       "      <th>Upper_Age</th>\n",
       "      <th>Lower_Age</th>\n",
       "      <th>Is_Spouse</th>\n",
       "      <th>Health Indicator</th>\n",
       "      <th>Holding_Policy_Duration</th>\n",
       "      <th>Holding_Policy_Type</th>\n",
       "      <th>Reco_Policy_Cat</th>\n",
       "      <th>Reco_Policy_Premium</th>\n",
       "      <th>Response</th>\n",
       "    </tr>\n",
       "  </thead>\n",
       "  <tbody>\n",
       "    <tr>\n",
       "      <th>0</th>\n",
       "      <td>1</td>\n",
       "      <td>C3</td>\n",
       "      <td>3213</td>\n",
       "      <td>Rented</td>\n",
       "      <td>Individual</td>\n",
       "      <td>36</td>\n",
       "      <td>36</td>\n",
       "      <td>No</td>\n",
       "      <td>X1</td>\n",
       "      <td>14+</td>\n",
       "      <td>3.0</td>\n",
       "      <td>22</td>\n",
       "      <td>11628.0</td>\n",
       "      <td>0</td>\n",
       "    </tr>\n",
       "    <tr>\n",
       "      <th>1</th>\n",
       "      <td>2</td>\n",
       "      <td>C5</td>\n",
       "      <td>1117</td>\n",
       "      <td>Owned</td>\n",
       "      <td>Joint</td>\n",
       "      <td>75</td>\n",
       "      <td>22</td>\n",
       "      <td>No</td>\n",
       "      <td>X2</td>\n",
       "      <td>NaN</td>\n",
       "      <td>NaN</td>\n",
       "      <td>22</td>\n",
       "      <td>30510.0</td>\n",
       "      <td>0</td>\n",
       "    </tr>\n",
       "    <tr>\n",
       "      <th>2</th>\n",
       "      <td>3</td>\n",
       "      <td>C5</td>\n",
       "      <td>3732</td>\n",
       "      <td>Owned</td>\n",
       "      <td>Individual</td>\n",
       "      <td>32</td>\n",
       "      <td>32</td>\n",
       "      <td>No</td>\n",
       "      <td>NaN</td>\n",
       "      <td>1.0</td>\n",
       "      <td>1.0</td>\n",
       "      <td>19</td>\n",
       "      <td>7450.0</td>\n",
       "      <td>1</td>\n",
       "    </tr>\n",
       "    <tr>\n",
       "      <th>3</th>\n",
       "      <td>4</td>\n",
       "      <td>C24</td>\n",
       "      <td>4378</td>\n",
       "      <td>Owned</td>\n",
       "      <td>Joint</td>\n",
       "      <td>52</td>\n",
       "      <td>48</td>\n",
       "      <td>No</td>\n",
       "      <td>X1</td>\n",
       "      <td>14+</td>\n",
       "      <td>3.0</td>\n",
       "      <td>19</td>\n",
       "      <td>17780.0</td>\n",
       "      <td>0</td>\n",
       "    </tr>\n",
       "    <tr>\n",
       "      <th>4</th>\n",
       "      <td>5</td>\n",
       "      <td>C8</td>\n",
       "      <td>2190</td>\n",
       "      <td>Rented</td>\n",
       "      <td>Individual</td>\n",
       "      <td>44</td>\n",
       "      <td>44</td>\n",
       "      <td>No</td>\n",
       "      <td>X2</td>\n",
       "      <td>3.0</td>\n",
       "      <td>1.0</td>\n",
       "      <td>16</td>\n",
       "      <td>10404.0</td>\n",
       "      <td>0</td>\n",
       "    </tr>\n",
       "  </tbody>\n",
       "</table>\n",
       "</div>"
      ],
      "text/plain": [
       "   ID City_Code  Region_Code Accomodation_Type Reco_Insurance_Type  Upper_Age  \\\n",
       "0   1        C3         3213            Rented          Individual         36   \n",
       "1   2        C5         1117             Owned               Joint         75   \n",
       "2   3        C5         3732             Owned          Individual         32   \n",
       "3   4       C24         4378             Owned               Joint         52   \n",
       "4   5        C8         2190            Rented          Individual         44   \n",
       "\n",
       "   Lower_Age Is_Spouse Health Indicator Holding_Policy_Duration  \\\n",
       "0         36        No               X1                     14+   \n",
       "1         22        No               X2                     NaN   \n",
       "2         32        No              NaN                     1.0   \n",
       "3         48        No               X1                     14+   \n",
       "4         44        No               X2                     3.0   \n",
       "\n",
       "   Holding_Policy_Type  Reco_Policy_Cat  Reco_Policy_Premium Response  \n",
       "0                  3.0               22              11628.0        0  \n",
       "1                  NaN               22              30510.0        0  \n",
       "2                  1.0               19               7450.0        1  \n",
       "3                  3.0               19              17780.0        0  \n",
       "4                  1.0               16              10404.0        0  "
      ]
     },
     "execution_count": 17,
     "metadata": {},
     "output_type": "execute_result"
    }
   ],
   "source": [
    "insurance_df.head()"
   ]
  },
  {
   "cell_type": "code",
   "execution_count": 18,
   "id": "e91daf40",
   "metadata": {},
   "outputs": [
    {
     "data": {
      "text/html": [
       "<div>\n",
       "<style scoped>\n",
       "    .dataframe tbody tr th:only-of-type {\n",
       "        vertical-align: middle;\n",
       "    }\n",
       "\n",
       "    .dataframe tbody tr th {\n",
       "        vertical-align: top;\n",
       "    }\n",
       "\n",
       "    .dataframe thead th {\n",
       "        text-align: right;\n",
       "    }\n",
       "</style>\n",
       "<table border=\"1\" class=\"dataframe\">\n",
       "  <thead>\n",
       "    <tr style=\"text-align: right;\">\n",
       "      <th></th>\n",
       "      <th>ID</th>\n",
       "      <th>City_Code</th>\n",
       "      <th>Region_Code</th>\n",
       "      <th>Accomodation_Type</th>\n",
       "      <th>Reco_Insurance_Type</th>\n",
       "      <th>Upper_Age</th>\n",
       "      <th>Lower_Age</th>\n",
       "      <th>Is_Spouse</th>\n",
       "      <th>Health Indicator</th>\n",
       "      <th>Holding_Policy_Duration</th>\n",
       "      <th>Holding_Policy_Type</th>\n",
       "      <th>Reco_Policy_Cat</th>\n",
       "      <th>Reco_Policy_Premium</th>\n",
       "      <th>Response</th>\n",
       "    </tr>\n",
       "  </thead>\n",
       "  <tbody>\n",
       "    <tr>\n",
       "      <th>21800</th>\n",
       "      <td>72683</td>\n",
       "      <td>C3</td>\n",
       "      <td>1044</td>\n",
       "      <td>Owned</td>\n",
       "      <td>Individual</td>\n",
       "      <td>45</td>\n",
       "      <td>45</td>\n",
       "      <td>No</td>\n",
       "      <td>X1</td>\n",
       "      <td>4.0</td>\n",
       "      <td>1.0</td>\n",
       "      <td>18</td>\n",
       "      <td>15884.0</td>\n",
       "      <td>test</td>\n",
       "    </tr>\n",
       "    <tr>\n",
       "      <th>21801</th>\n",
       "      <td>72684</td>\n",
       "      <td>C4</td>\n",
       "      <td>266</td>\n",
       "      <td>Owned</td>\n",
       "      <td>Individual</td>\n",
       "      <td>59</td>\n",
       "      <td>59</td>\n",
       "      <td>No</td>\n",
       "      <td>X5</td>\n",
       "      <td>6.0</td>\n",
       "      <td>3.0</td>\n",
       "      <td>18</td>\n",
       "      <td>21390.0</td>\n",
       "      <td>test</td>\n",
       "    </tr>\n",
       "    <tr>\n",
       "      <th>21802</th>\n",
       "      <td>72685</td>\n",
       "      <td>C12</td>\n",
       "      <td>2470</td>\n",
       "      <td>Owned</td>\n",
       "      <td>Individual</td>\n",
       "      <td>74</td>\n",
       "      <td>74</td>\n",
       "      <td>No</td>\n",
       "      <td>X3</td>\n",
       "      <td>NaN</td>\n",
       "      <td>NaN</td>\n",
       "      <td>1</td>\n",
       "      <td>17836.0</td>\n",
       "      <td>test</td>\n",
       "    </tr>\n",
       "    <tr>\n",
       "      <th>21803</th>\n",
       "      <td>72686</td>\n",
       "      <td>C10</td>\n",
       "      <td>1676</td>\n",
       "      <td>Rented</td>\n",
       "      <td>Individual</td>\n",
       "      <td>25</td>\n",
       "      <td>25</td>\n",
       "      <td>No</td>\n",
       "      <td>X4</td>\n",
       "      <td>3.0</td>\n",
       "      <td>1.0</td>\n",
       "      <td>19</td>\n",
       "      <td>11568.0</td>\n",
       "      <td>test</td>\n",
       "    </tr>\n",
       "    <tr>\n",
       "      <th>21804</th>\n",
       "      <td>72687</td>\n",
       "      <td>C2</td>\n",
       "      <td>3617</td>\n",
       "      <td>Owned</td>\n",
       "      <td>Individual</td>\n",
       "      <td>73</td>\n",
       "      <td>73</td>\n",
       "      <td>No</td>\n",
       "      <td>X2</td>\n",
       "      <td>14+</td>\n",
       "      <td>2.0</td>\n",
       "      <td>3</td>\n",
       "      <td>23040.0</td>\n",
       "      <td>test</td>\n",
       "    </tr>\n",
       "  </tbody>\n",
       "</table>\n",
       "</div>"
      ],
      "text/plain": [
       "          ID City_Code  Region_Code Accomodation_Type Reco_Insurance_Type  \\\n",
       "21800  72683        C3         1044             Owned          Individual   \n",
       "21801  72684        C4          266             Owned          Individual   \n",
       "21802  72685       C12         2470             Owned          Individual   \n",
       "21803  72686       C10         1676            Rented          Individual   \n",
       "21804  72687        C2         3617             Owned          Individual   \n",
       "\n",
       "       Upper_Age  Lower_Age Is_Spouse Health Indicator  \\\n",
       "21800         45         45        No               X1   \n",
       "21801         59         59        No               X5   \n",
       "21802         74         74        No               X3   \n",
       "21803         25         25        No               X4   \n",
       "21804         73         73        No               X2   \n",
       "\n",
       "      Holding_Policy_Duration  Holding_Policy_Type  Reco_Policy_Cat  \\\n",
       "21800                     4.0                  1.0               18   \n",
       "21801                     6.0                  3.0               18   \n",
       "21802                     NaN                  NaN                1   \n",
       "21803                     3.0                  1.0               19   \n",
       "21804                     14+                  2.0                3   \n",
       "\n",
       "       Reco_Policy_Premium Response  \n",
       "21800              15884.0     test  \n",
       "21801              21390.0     test  \n",
       "21802              17836.0     test  \n",
       "21803              11568.0     test  \n",
       "21804              23040.0     test  "
      ]
     },
     "execution_count": 18,
     "metadata": {},
     "output_type": "execute_result"
    }
   ],
   "source": [
    "insurance_df.tail()"
   ]
  },
  {
   "cell_type": "code",
   "execution_count": 19,
   "id": "34c5f309",
   "metadata": {},
   "outputs": [
    {
     "data": {
      "text/plain": [
       "(72687, 14)"
      ]
     },
     "execution_count": 19,
     "metadata": {},
     "output_type": "execute_result"
    }
   ],
   "source": [
    "insurance_df.shape"
   ]
  },
  {
   "cell_type": "code",
   "execution_count": 20,
   "id": "f09c25b3",
   "metadata": {},
   "outputs": [
    {
     "data": {
      "text/html": [
       "<div>\n",
       "<style scoped>\n",
       "    .dataframe tbody tr th:only-of-type {\n",
       "        vertical-align: middle;\n",
       "    }\n",
       "\n",
       "    .dataframe tbody tr th {\n",
       "        vertical-align: top;\n",
       "    }\n",
       "\n",
       "    .dataframe thead th {\n",
       "        text-align: right;\n",
       "    }\n",
       "</style>\n",
       "<table border=\"1\" class=\"dataframe\">\n",
       "  <thead>\n",
       "    <tr style=\"text-align: right;\">\n",
       "      <th></th>\n",
       "      <th>ID</th>\n",
       "      <th>Region_Code</th>\n",
       "      <th>Upper_Age</th>\n",
       "      <th>Lower_Age</th>\n",
       "      <th>Holding_Policy_Type</th>\n",
       "      <th>Reco_Policy_Cat</th>\n",
       "      <th>Reco_Policy_Premium</th>\n",
       "    </tr>\n",
       "  </thead>\n",
       "  <tbody>\n",
       "    <tr>\n",
       "      <th>count</th>\n",
       "      <td>72687.000000</td>\n",
       "      <td>72687.000000</td>\n",
       "      <td>72687.000000</td>\n",
       "      <td>72687.000000</td>\n",
       "      <td>43833.000000</td>\n",
       "      <td>72687.000000</td>\n",
       "      <td>72687.000000</td>\n",
       "    </tr>\n",
       "    <tr>\n",
       "      <th>mean</th>\n",
       "      <td>36344.000000</td>\n",
       "      <td>1737.573101</td>\n",
       "      <td>44.862713</td>\n",
       "      <td>42.741632</td>\n",
       "      <td>2.439486</td>\n",
       "      <td>15.122140</td>\n",
       "      <td>14194.856472</td>\n",
       "    </tr>\n",
       "    <tr>\n",
       "      <th>std</th>\n",
       "      <td>20983.073845</td>\n",
       "      <td>1428.388402</td>\n",
       "      <td>17.293563</td>\n",
       "      <td>17.304194</td>\n",
       "      <td>1.029450</td>\n",
       "      <td>6.329295</td>\n",
       "      <td>6562.564815</td>\n",
       "    </tr>\n",
       "    <tr>\n",
       "      <th>min</th>\n",
       "      <td>1.000000</td>\n",
       "      <td>1.000000</td>\n",
       "      <td>18.000000</td>\n",
       "      <td>16.000000</td>\n",
       "      <td>1.000000</td>\n",
       "      <td>1.000000</td>\n",
       "      <td>2152.000000</td>\n",
       "    </tr>\n",
       "    <tr>\n",
       "      <th>25%</th>\n",
       "      <td>18172.500000</td>\n",
       "      <td>527.000000</td>\n",
       "      <td>28.000000</td>\n",
       "      <td>27.000000</td>\n",
       "      <td>1.000000</td>\n",
       "      <td>12.000000</td>\n",
       "      <td>9254.000000</td>\n",
       "    </tr>\n",
       "    <tr>\n",
       "      <th>50%</th>\n",
       "      <td>36344.000000</td>\n",
       "      <td>1391.000000</td>\n",
       "      <td>44.000000</td>\n",
       "      <td>40.000000</td>\n",
       "      <td>3.000000</td>\n",
       "      <td>17.000000</td>\n",
       "      <td>13200.000000</td>\n",
       "    </tr>\n",
       "    <tr>\n",
       "      <th>75%</th>\n",
       "      <td>54515.500000</td>\n",
       "      <td>2681.000000</td>\n",
       "      <td>59.000000</td>\n",
       "      <td>57.000000</td>\n",
       "      <td>3.000000</td>\n",
       "      <td>20.000000</td>\n",
       "      <td>18144.000000</td>\n",
       "    </tr>\n",
       "    <tr>\n",
       "      <th>max</th>\n",
       "      <td>72687.000000</td>\n",
       "      <td>6194.000000</td>\n",
       "      <td>75.000000</td>\n",
       "      <td>75.000000</td>\n",
       "      <td>4.000000</td>\n",
       "      <td>22.000000</td>\n",
       "      <td>43776.000000</td>\n",
       "    </tr>\n",
       "  </tbody>\n",
       "</table>\n",
       "</div>"
      ],
      "text/plain": [
       "                 ID   Region_Code     Upper_Age     Lower_Age  \\\n",
       "count  72687.000000  72687.000000  72687.000000  72687.000000   \n",
       "mean   36344.000000   1737.573101     44.862713     42.741632   \n",
       "std    20983.073845   1428.388402     17.293563     17.304194   \n",
       "min        1.000000      1.000000     18.000000     16.000000   \n",
       "25%    18172.500000    527.000000     28.000000     27.000000   \n",
       "50%    36344.000000   1391.000000     44.000000     40.000000   \n",
       "75%    54515.500000   2681.000000     59.000000     57.000000   \n",
       "max    72687.000000   6194.000000     75.000000     75.000000   \n",
       "\n",
       "       Holding_Policy_Type  Reco_Policy_Cat  Reco_Policy_Premium  \n",
       "count         43833.000000     72687.000000         72687.000000  \n",
       "mean              2.439486        15.122140         14194.856472  \n",
       "std               1.029450         6.329295          6562.564815  \n",
       "min               1.000000         1.000000          2152.000000  \n",
       "25%               1.000000        12.000000          9254.000000  \n",
       "50%               3.000000        17.000000         13200.000000  \n",
       "75%               3.000000        20.000000         18144.000000  \n",
       "max               4.000000        22.000000         43776.000000  "
      ]
     },
     "execution_count": 20,
     "metadata": {},
     "output_type": "execute_result"
    }
   ],
   "source": [
    "insurance_df.describe()"
   ]
  },
  {
   "cell_type": "code",
   "execution_count": 14,
   "id": "a43e3f30",
   "metadata": {},
   "outputs": [
    {
     "data": {
      "text/plain": [
       "ID                             0\n",
       "City_Code                      0\n",
       "Region_Code                    0\n",
       "Accomodation_Type              0\n",
       "Reco_Insurance_Type            0\n",
       "Upper_Age                      0\n",
       "Lower_Age                      0\n",
       "Is_Spouse                      0\n",
       "Health Indicator           16718\n",
       "Holding_Policy_Duration    28854\n",
       "Holding_Policy_Type        28854\n",
       "Reco_Policy_Cat                0\n",
       "Reco_Policy_Premium            0\n",
       "Response                       0\n",
       "dtype: int64"
      ]
     },
     "execution_count": 14,
     "metadata": {},
     "output_type": "execute_result"
    }
   ],
   "source": [
    "insurance_df.isna().sum()\n",
    "#We can see that there are null values"
   ]
  },
  {
   "cell_type": "code",
   "execution_count": 15,
   "id": "0b0ebc65",
   "metadata": {},
   "outputs": [
    {
     "data": {
      "text/plain": [
       "Holding_Policy_Duration    0.396962\n",
       "Holding_Policy_Type        0.396962\n",
       "Health Indicator           0.230000\n",
       "ID                         0.000000\n",
       "City_Code                  0.000000\n",
       "Region_Code                0.000000\n",
       "Accomodation_Type          0.000000\n",
       "Reco_Insurance_Type        0.000000\n",
       "Upper_Age                  0.000000\n",
       "Lower_Age                  0.000000\n",
       "Is_Spouse                  0.000000\n",
       "Reco_Policy_Cat            0.000000\n",
       "Reco_Policy_Premium        0.000000\n",
       "Response                   0.000000\n",
       "dtype: float64"
      ]
     },
     "execution_count": 15,
     "metadata": {},
     "output_type": "execute_result"
    }
   ],
   "source": [
    "insurance_df.isnull().sum().sort_values(ascending=False)/insurance_df.shape[0]\n",
    "#Percentile of null values of columns"
   ]
  },
  {
   "cell_type": "code",
   "execution_count": 34,
   "id": "85a34ad7",
   "metadata": {},
   "outputs": [],
   "source": [
    "insurance_df.rename(columns={'Is_Spouse':'Married','Health Indicator':'Health_Indicator'},inplace=True)\n",
    "# Renaming the columns is_spouce to married and health indicator to health_indicator"
   ]
  },
  {
   "cell_type": "code",
   "execution_count": 36,
   "id": "8f414097",
   "metadata": {},
   "outputs": [
    {
     "name": "stdout",
     "output_type": "stream",
     "text": [
      "<class 'pandas.core.frame.DataFrame'>\n",
      "Int64Index: 72687 entries, 0 to 21804\n",
      "Data columns (total 14 columns):\n",
      " #   Column                   Non-Null Count  Dtype  \n",
      "---  ------                   --------------  -----  \n",
      " 0   ID                       72687 non-null  int64  \n",
      " 1   City_Code                72687 non-null  object \n",
      " 2   Region_Code              72687 non-null  int64  \n",
      " 3   Accomodation_Type        72687 non-null  object \n",
      " 4   Reco_Insurance_Type      72687 non-null  object \n",
      " 5   Upper_Age                72687 non-null  int64  \n",
      " 6   Lower_Age                72687 non-null  int64  \n",
      " 7   Married                  72687 non-null  object \n",
      " 8   Health_Indicator         55969 non-null  object \n",
      " 9   Holding_Policy_Duration  43833 non-null  object \n",
      " 10  Holding_Policy_Type      43833 non-null  float64\n",
      " 11  Reco_Policy_Cat          72687 non-null  int64  \n",
      " 12  Reco_Policy_Premium      72687 non-null  float64\n",
      " 13  Response                 72687 non-null  object \n",
      "dtypes: float64(2), int64(5), object(7)\n",
      "memory usage: 8.3+ MB\n"
     ]
    }
   ],
   "source": [
    "insurance_df.info()\n",
    "#Names has chaged for those columns"
   ]
  },
  {
   "cell_type": "markdown",
   "id": "5d93c16f",
   "metadata": {},
   "source": [
    "# EDA"
   ]
  },
  {
   "cell_type": "code",
   "execution_count": 24,
   "id": "c48ad788",
   "metadata": {},
   "outputs": [
    {
     "data": {
      "text/plain": [
       "<AxesSubplot: >"
      ]
     },
     "execution_count": 24,
     "metadata": {},
     "output_type": "execute_result"
    },
    {
     "data": {
      "image/png": "[encoded data removed]",
      "text/plain": [
       "<Figure size 640x480 with 1 Axes>"
      ]
     },
     "metadata": {},
     "output_type": "display_data"
    }
   ],
   "source": [
    "insurance_train.Response.value_counts().plot(kind='bar')\n",
    "#count of the sublevels in the resposne column in the data by using bar chart, which shows customers are"
   ]
  },
  {
   "cell_type": "code",
   "execution_count": 27,
   "id": "291445d3",
   "metadata": {},
   "outputs": [
    {
     "data": {
      "text/plain": [
       "<AxesSubplot: ylabel='Frequency'>"
      ]
     },
     "execution_count": 27,
     "metadata": {},
     "output_type": "execute_result"
    },
    {
     "data": {
      "image/png": "[encoded data removed]",
      "text/plain": [
       "<Figure size 640x480 with 1 Axes>"
      ]
     },
     "metadata": {},
     "output_type": "display_data"
    }
   ],
   "source": [
    "insurance_train.Response.plot(kind='hist')\n",
    "##Freq of the sublevels in the resposne column in the data by using hist chart"
   ]
  },
  {
   "cell_type": "code",
   "execution_count": 53,
   "id": "6600123d",
   "metadata": {},
   "outputs": [
    {
     "data": {
      "image/png": "[encoded data removed]",
      "text/plain": [
       "<Figure size 1000x500 with 2 Axes>"
      ]
     },
     "metadata": {},
     "output_type": "display_data"
    }
   ],
   "source": [
    "plt.figure(figsize=(10,5))\n",
    "sns.heatmap(insurance_df.corr(),annot=True)\n",
    "plt.show()\n",
    "\n",
    "\n",
    "#The heat map shows no multi-colinearity between varaibles"
   ]
  },
  {
   "cell_type": "code",
   "execution_count": 55,
   "id": "3dffaa41",
   "metadata": {},
   "outputs": [
    {
     "data": {
      "text/plain": [
       "<Figure size 1600x1600 with 0 Axes>"
      ]
     },
     "metadata": {},
     "output_type": "display_data"
    },
    {
     "data": {
      "image/png": "[encoded data removed]",
      "text/plain": [
       "<Figure size 640x480 with 1 Axes>"
      ]
     },
     "metadata": {},
     "output_type": "display_data"
    }
   ],
   "source": [
    "plt.figure(figsize=(16,16))\n",
    "insurance_df.plot(kind='box',vert=False)\n",
    "plt.tight_layout()\n",
    "#Box plot for the different data columns in the data frame which shows the outliers in the columns of the data.\n",
    "#Reco_policy_premium has more outliers and reagion code has too outiers"
   ]
  },
  {
   "cell_type": "code",
   "execution_count": 31,
   "id": "e19439db",
   "metadata": {},
   "outputs": [
    {
     "data": {
      "text/plain": [
       "<AxesSubplot: >"
      ]
     },
     "execution_count": 31,
     "metadata": {},
     "output_type": "execute_result"
    },
    {
     "data": {
      "image/png": "[encoded data removed]",
      "text/plain": [
       "<Figure size 640x480 with 1 Axes>"
      ]
     },
     "metadata": {},
     "output_type": "display_data"
    }
   ],
   "source": [
    "insurance_df.isna().sum().plot(kind='bar')\n",
    "#plotting the null columns in the data frame with bar chart "
   ]
  },
  {
   "cell_type": "code",
   "execution_count": 42,
   "id": "29f14157",
   "metadata": {},
   "outputs": [],
   "source": [
    "import missingno as msgno\n",
    "#It is a visualization library which shows missing value"
   ]
  },
  {
   "cell_type": "code",
   "execution_count": 43,
   "id": "bb63684d",
   "metadata": {},
   "outputs": [
    {
     "data": {
      "text/plain": [
       "<AxesSubplot: >"
      ]
     },
     "execution_count": 43,
     "metadata": {},
     "output_type": "execute_result"
    },
    {
     "data": {
      "image/png": "[encoded data removed]",
      "text/plain": [
       "<Figure size 2500x1000 with 3 Axes>"
      ]
     },
     "metadata": {},
     "output_type": "display_data"
    }
   ],
   "source": [
    "msgno.bar(insurance_df)\n",
    "#here missingno has plotted clearly the bar chart of null values in the data.The blank spaces explains that there is no data \n",
    "#and filled with nan values."
   ]
  },
  {
   "cell_type": "code",
   "execution_count": 44,
   "id": "2fb40139",
   "metadata": {},
   "outputs": [
    {
     "data": {
      "text/plain": [
       "<AxesSubplot: xlabel='Accomodation_Type', ylabel='count'>"
      ]
     },
     "execution_count": 44,
     "metadata": {},
     "output_type": "execute_result"
    },
    {
     "data": {
      "image/png": "[encoded data removed]",
      "text/plain": [
       "<Figure size 800x500 with 1 Axes>"
      ]
     },
     "metadata": {},
     "output_type": "display_data"
    }
   ],
   "source": [
    "ax=plt.subplots(figsize=(8,5))\n",
    "sns.set_style(\"whitegrid\")\n",
    "sns.countplot(x=\"Accomodation_Type\",hue='Response',data=insurance_train)\n",
    "\n",
    "\n",
    "#People with their accomodation type by including their response has neatly plotted."
   ]
  },
  {
   "cell_type": "code",
   "execution_count": 62,
   "id": "1177ee12",
   "metadata": {},
   "outputs": [
    {
     "data": {
      "text/plain": [
       "<seaborn.axisgrid.FacetGrid at 0x24845144ac0>"
      ]
     },
     "execution_count": 62,
     "metadata": {},
     "output_type": "execute_result"
    },
    {
     "data": {
      "image/png": "[encoded data removed]",
      "text/plain": [
       "<Figure size 573.611x500 with 1 Axes>"
      ]
     },
     "metadata": {},
     "output_type": "display_data"
    }
   ],
   "source": [
    "sns.catplot(x=\"Holding_Policy_Type\",y='Upper_Age',hue='Response',kind=\"violin\",data=insurance_train)\n",
    "#The voilin plot shows that the upper age people are mostly selecting type 3 policy and type 2 policy"
   ]
  },
  {
   "cell_type": "code",
   "execution_count": 66,
   "id": "c29dcebf",
   "metadata": {},
   "outputs": [
    {
     "data": {
      "image/png": "[encoded data removed]",
      "text/plain": [
       "<Figure size 640x480 with 1 Axes>"
      ]
     },
     "metadata": {},
     "output_type": "display_data"
    }
   ],
   "source": [
    "ax = sns.countplot(x=\"Married\", data=insurance_df,facecolor=(0,0,0,0),\n",
    "                   linewidth=5,\n",
    "                   edgecolor=sns.color_palette(\"dark\"))\n",
    "#mostly people are not married"
   ]
  },
  {
   "cell_type": "code",
   "execution_count": 58,
   "id": "d13a0d66",
   "metadata": {},
   "outputs": [
    {
     "data": {
      "text/plain": [
       "<AxesSubplot: xlabel='Holding_Policy_Type', ylabel='count'>"
      ]
     },
     "execution_count": 58,
     "metadata": {},
     "output_type": "execute_result"
    },
    {
     "data": {
      "image/png": "[encoded data removed]",
      "text/plain": [
       "<Figure size 640x480 with 1 Axes>"
      ]
     },
     "metadata": {},
     "output_type": "display_data"
    }
   ],
   "source": [
    "sns.countplot(data=insurance_df,x='Holding_Policy_Type',hue='Response')\n",
    "#eliminate Test in Response, policy type 3 is most selling, which gives high chances of customers showing positive response"
   ]
  },
  {
   "cell_type": "markdown",
   "id": "72e90619",
   "metadata": {},
   "source": [
    "# Missing Value Imputation"
   ]
  },
  {
   "cell_type": "code",
   "execution_count": 67,
   "id": "846f1779",
   "metadata": {},
   "outputs": [
    {
     "name": "stdout",
     "output_type": "stream",
     "text": [
      "<class 'pandas.core.frame.DataFrame'>\n",
      "Int64Index: 72687 entries, 0 to 21804\n",
      "Data columns (total 14 columns):\n",
      " #   Column                   Non-Null Count  Dtype  \n",
      "---  ------                   --------------  -----  \n",
      " 0   ID                       72687 non-null  int64  \n",
      " 1   City_Code                72687 non-null  object \n",
      " 2   Region_Code              72687 non-null  int64  \n",
      " 3   Accomodation_Type        72687 non-null  object \n",
      " 4   Reco_Insurance_Type      72687 non-null  object \n",
      " 5   Upper_Age                72687 non-null  int64  \n",
      " 6   Lower_Age                72687 non-null  int64  \n",
      " 7   Married                  72687 non-null  object \n",
      " 8   Health_Indicator         55969 non-null  object \n",
      " 9   Holding_Policy_Duration  43833 non-null  object \n",
      " 10  Holding_Policy_Type      43833 non-null  float64\n",
      " 11  Reco_Policy_Cat          72687 non-null  int64  \n",
      " 12  Reco_Policy_Premium      72687 non-null  float64\n",
      " 13  Response                 72687 non-null  object \n",
      "dtypes: float64(2), int64(5), object(7)\n",
      "memory usage: 8.3+ MB\n"
     ]
    }
   ],
   "source": [
    "insurance_df.info()"
   ]
  },
  {
   "cell_type": "code",
   "execution_count": 68,
   "id": "c7805505",
   "metadata": {},
   "outputs": [
    {
     "data": {
      "text/plain": [
       "1.0     6390\n",
       "14+     6227\n",
       "2.0     6032\n",
       "3.0     5192\n",
       "4.0     3976\n",
       "5.0     3354\n",
       "6.0     2797\n",
       "7.0     2309\n",
       "8.0     1885\n",
       "9.0     1607\n",
       "10.0    1146\n",
       "11.0     800\n",
       "13.0     732\n",
       "12.0     709\n",
       "14.0     677\n",
       "Name: Holding_Policy_Duration, dtype: int64"
      ]
     },
     "execution_count": 68,
     "metadata": {},
     "output_type": "execute_result"
    }
   ],
   "source": [
    "insurance_df.Holding_Policy_Duration.value_counts()"
   ]
  },
  {
   "cell_type": "code",
   "execution_count": 69,
   "id": "01f36903",
   "metadata": {},
   "outputs": [],
   "source": [
    "insurance_df.Holding_Policy_Duration=insurance_df.Holding_Policy_Duration.replace('14+',14.0).astype('float')\n",
    "#changing the 14+ to 14 as it is obstructing the data not to impute the missing values with mean/median"
   ]
  },
  {
   "cell_type": "code",
   "execution_count": 70,
   "id": "00a44324",
   "metadata": {},
   "outputs": [
    {
     "data": {
      "text/plain": [
       "NaN     28854\n",
       "14.0     6904\n",
       "1.0      6390\n",
       "2.0      6032\n",
       "3.0      5192\n",
       "4.0      3976\n",
       "5.0      3354\n",
       "6.0      2797\n",
       "7.0      2309\n",
       "8.0      1885\n",
       "9.0      1607\n",
       "10.0     1146\n",
       "11.0      800\n",
       "13.0      732\n",
       "12.0      709\n",
       "Name: Holding_Policy_Duration, dtype: int64"
      ]
     },
     "execution_count": 70,
     "metadata": {},
     "output_type": "execute_result"
    }
   ],
   "source": [
    "insurance_df.Holding_Policy_Duration.value_counts(dropna=False)"
   ]
  },
  {
   "cell_type": "code",
   "execution_count": 26,
   "id": "38f4cf58",
   "metadata": {},
   "outputs": [
    {
     "name": "stdout",
     "output_type": "stream",
     "text": [
      "1        1\n",
      "48456    1\n",
      "48462    1\n",
      "48461    1\n",
      "48460    1\n",
      "        ..\n",
      "24236    1\n",
      "24237    1\n",
      "24238    1\n",
      "24239    1\n",
      "72687    1\n",
      "Name: ID, Length: 72687, dtype: int64\n",
      "C1     12762\n",
      "C2     11078\n",
      "C3      6954\n",
      "C4      5230\n",
      "C9      3089\n",
      "C6      2769\n",
      "C7      2698\n",
      "C8      2579\n",
      "C10     2291\n",
      "C5      1963\n",
      "C17     1689\n",
      "C15     1663\n",
      "C11     1661\n",
      "C16     1613\n",
      "C13     1429\n",
      "C20     1370\n",
      "C12     1310\n",
      "C19     1264\n",
      "C18     1131\n",
      "C14     1089\n",
      "C21      984\n",
      "C23      842\n",
      "C24      823\n",
      "C26      731\n",
      "C22      713\n",
      "C25      536\n",
      "C29      533\n",
      "C27      437\n",
      "C28      394\n",
      "C33      392\n",
      "C32      240\n",
      "C34      189\n",
      "C35       89\n",
      "C30       81\n",
      "C36       54\n",
      "C31       17\n",
      "Name: City_Code, dtype: int64\n",
      "1       140\n",
      "2       112\n",
      "5       105\n",
      "6       102\n",
      "4       102\n",
      "       ... \n",
      "5879      1\n",
      "6128      1\n",
      "5791      1\n",
      "6074      1\n",
      "5902      1\n",
      "Name: Region_Code, Length: 5538, dtype: int64\n",
      "Owned     40041\n",
      "Rented    32646\n",
      "Name: Accomodation_Type, dtype: int64\n",
      "Individual    57877\n",
      "Joint         14810\n",
      "Name: Reco_Insurance_Type, dtype: int64\n",
      "75    4231\n",
      "24    2374\n",
      "23    2365\n",
      "25    2346\n",
      "22    2214\n",
      "26    2045\n",
      "27    1750\n",
      "28    1703\n",
      "21    1601\n",
      "29    1410\n",
      "30    1389\n",
      "31    1286\n",
      "32    1272\n",
      "55    1259\n",
      "52    1229\n",
      "43    1197\n",
      "48    1197\n",
      "46    1188\n",
      "58    1184\n",
      "42    1179\n",
      "33    1177\n",
      "56    1172\n",
      "53    1164\n",
      "54    1163\n",
      "34    1162\n",
      "35    1154\n",
      "51    1148\n",
      "50    1143\n",
      "44    1139\n",
      "49    1137\n",
      "45    1134\n",
      "20    1133\n",
      "59    1130\n",
      "57    1122\n",
      "41    1119\n",
      "47    1116\n",
      "65    1108\n",
      "60    1091\n",
      "61    1081\n",
      "63    1078\n",
      "66    1075\n",
      "36    1066\n",
      "38    1065\n",
      "37    1061\n",
      "64    1049\n",
      "40    1040\n",
      "62    1036\n",
      "39    1005\n",
      "70     964\n",
      "69     855\n",
      "67     845\n",
      "68     793\n",
      "71     790\n",
      "19     732\n",
      "72     708\n",
      "73     685\n",
      "74     654\n",
      "18     174\n",
      "Name: Upper_Age, dtype: int64\n",
      "75    3143\n",
      "23    2619\n",
      "25    2553\n",
      "24    2546\n",
      "22    2442\n",
      "26    2188\n",
      "27    1903\n",
      "21    1901\n",
      "28    1848\n",
      "29    1543\n",
      "30    1462\n",
      "20    1459\n",
      "31    1381\n",
      "32    1355\n",
      "33    1261\n",
      "35    1211\n",
      "34    1203\n",
      "55    1191\n",
      "52    1136\n",
      "48    1120\n",
      "46    1108\n",
      "58    1103\n",
      "42    1103\n",
      "43    1092\n",
      "50    1091\n",
      "19    1091\n",
      "53    1086\n",
      "56    1073\n",
      "36    1066\n",
      "51    1065\n",
      "65    1064\n",
      "57    1059\n",
      "37    1057\n",
      "49    1053\n",
      "38    1051\n",
      "44    1051\n",
      "45    1051\n",
      "54    1047\n",
      "47    1047\n",
      "41    1046\n",
      "59    1029\n",
      "60    1024\n",
      "40    1023\n",
      "62    1013\n",
      "66    1006\n",
      "61     998\n",
      "39     992\n",
      "64     985\n",
      "63     959\n",
      "70     840\n",
      "69     784\n",
      "68     751\n",
      "67     716\n",
      "71     713\n",
      "72     605\n",
      "73     599\n",
      "74     584\n",
      "18     519\n",
      "16     388\n",
      "17     290\n",
      "Name: Lower_Age, dtype: int64\n",
      "No     60687\n",
      "Yes    12000\n",
      "Name: Is_Spouse, dtype: int64\n",
      "X1     18624\n",
      "NaN    16718\n",
      "X2     14848\n",
      "X3      9608\n",
      "X4      8185\n",
      "X5      2408\n",
      "X6      1794\n",
      "X7       292\n",
      "X8       119\n",
      "X9        91\n",
      "Name: Health Indicator, dtype: int64\n",
      "NaN     28854\n",
      "14.0     6904\n",
      "1.0      6390\n",
      "2.0      6032\n",
      "3.0      5192\n",
      "4.0      3976\n",
      "5.0      3354\n",
      "6.0      2797\n",
      "7.0      2309\n",
      "8.0      1885\n",
      "9.0      1607\n",
      "10.0     1146\n",
      "11.0      800\n",
      "13.0      732\n",
      "12.0      709\n",
      "Name: Holding_Policy_Duration, dtype: int64\n",
      "NaN    28854\n",
      "3.0    18851\n",
      "1.0    11747\n",
      "2.0     7155\n",
      "4.0     6080\n",
      "Name: Holding_Policy_Type, dtype: int64\n",
      "22    9459\n",
      "18    7890\n",
      "21    7161\n",
      "16    5786\n",
      "17    5445\n",
      "19    5319\n",
      "20    4511\n",
      "12    3127\n",
      "1     2775\n",
      "2     2677\n",
      "14    2512\n",
      "13    2441\n",
      "15    2256\n",
      "3     1550\n",
      "4     1464\n",
      "5     1453\n",
      "6     1181\n",
      "7     1151\n",
      "8     1150\n",
      "9     1146\n",
      "10    1123\n",
      "11    1110\n",
      "Name: Reco_Policy_Cat, dtype: int64\n",
      "10800.0    92\n",
      "10368.0    88\n",
      "10080.0    85\n",
      "12060.0    82\n",
      "11880.0    82\n",
      "           ..\n",
      "24561.6     1\n",
      "34816.0     1\n",
      "19364.8     1\n",
      "18278.4     1\n",
      "2852.0      1\n",
      "Name: Reco_Policy_Premium, Length: 7685, dtype: int64\n",
      "0       38673\n",
      "test    21805\n",
      "1       12209\n",
      "Name: Response, dtype: int64\n"
     ]
    }
   ],
   "source": [
    "for i in insurance_df:\n",
    "    freq=insurance_df[i].value_counts(dropna=False)\n",
    "    print(freq)\n",
    "#Getting the value counts for each column in the data"
   ]
  },
  {
   "cell_type": "code",
   "execution_count": 71,
   "id": "d7d2d6bc",
   "metadata": {},
   "outputs": [],
   "source": [
    "insurance_df.Health_Indicator=insurance_df.Health_Indicator.fillna(insurance_df.Health_Indicator.value_counts().\n",
    "                                                                          idxmax())\n",
    "#Imputing the Health_Indicator column with mode imputation as it is a object"
   ]
  },
  {
   "cell_type": "code",
   "execution_count": 72,
   "id": "5a667a79",
   "metadata": {},
   "outputs": [],
   "source": [
    "insurance_df.Holding_Policy_Duration=insurance_df.Holding_Policy_Duration.fillna(insurance_df.Holding_Policy_Duration.\n",
    "                                                                                 median())\n",
    "#Imputing the  Holding_Policy_Duration column with median  imputation "
   ]
  },
  {
   "cell_type": "code",
   "execution_count": 73,
   "id": "94ee2f17",
   "metadata": {},
   "outputs": [],
   "source": [
    "insurance_df.Holding_Policy_Type=insurance_df.Holding_Policy_Type.fillna(insurance_df.Holding_Policy_Type.mean())\n",
    "#Imputing the  Holding_Policy_Type column with mean imputation "
   ]
  },
  {
   "cell_type": "code",
   "execution_count": 74,
   "id": "15f18638",
   "metadata": {},
   "outputs": [
    {
     "name": "stdout",
     "output_type": "stream",
     "text": [
      "<class 'pandas.core.frame.DataFrame'>\n",
      "Int64Index: 72687 entries, 0 to 21804\n",
      "Data columns (total 14 columns):\n",
      " #   Column                   Non-Null Count  Dtype  \n",
      "---  ------                   --------------  -----  \n",
      " 0   ID                       72687 non-null  int64  \n",
      " 1   City_Code                72687 non-null  object \n",
      " 2   Region_Code              72687 non-null  int64  \n",
      " 3   Accomodation_Type        72687 non-null  object \n",
      " 4   Reco_Insurance_Type      72687 non-null  object \n",
      " 5   Upper_Age                72687 non-null  int64  \n",
      " 6   Lower_Age                72687 non-null  int64  \n",
      " 7   Married                  72687 non-null  object \n",
      " 8   Health_Indicator         72687 non-null  object \n",
      " 9   Holding_Policy_Duration  72687 non-null  float64\n",
      " 10  Holding_Policy_Type      72687 non-null  float64\n",
      " 11  Reco_Policy_Cat          72687 non-null  int64  \n",
      " 12  Reco_Policy_Premium      72687 non-null  float64\n",
      " 13  Response                 72687 non-null  object \n",
      "dtypes: float64(3), int64(5), object(6)\n",
      "memory usage: 8.3+ MB\n",
      "None\n"
     ]
    }
   ],
   "source": [
    "print(insurance_df.info())"
   ]
  },
  {
   "cell_type": "markdown",
   "id": "0c0c290d",
   "metadata": {},
   "source": [
    "Null values are suucessfully imputed"
   ]
  },
  {
   "cell_type": "code",
   "execution_count": 76,
   "id": "e046231b",
   "metadata": {},
   "outputs": [],
   "source": [
    "object_cols=insurance_df.select_dtypes(include='object')\n",
    "numeric_cols=insurance_df.select_dtypes(include=np.number)\n",
    "#seperating the data frame into object and numeric cols"
   ]
  },
  {
   "cell_type": "code",
   "execution_count": 77,
   "id": "f177ed94",
   "metadata": {},
   "outputs": [
    {
     "name": "stdout",
     "output_type": "stream",
     "text": [
      "<class 'pandas.core.frame.DataFrame'>\n",
      "Int64Index: 72687 entries, 0 to 21804\n",
      "Data columns (total 6 columns):\n",
      " #   Column               Non-Null Count  Dtype \n",
      "---  ------               --------------  ----- \n",
      " 0   City_Code            72687 non-null  object\n",
      " 1   Accomodation_Type    72687 non-null  object\n",
      " 2   Reco_Insurance_Type  72687 non-null  object\n",
      " 3   Married              72687 non-null  object\n",
      " 4   Health_Indicator     72687 non-null  object\n",
      " 5   Response             72687 non-null  object\n",
      "dtypes: object(6)\n",
      "memory usage: 3.9+ MB\n"
     ]
    }
   ],
   "source": [
    "object_cols.info()"
   ]
  },
  {
   "cell_type": "code",
   "execution_count": 78,
   "id": "82b8928a",
   "metadata": {},
   "outputs": [
    {
     "name": "stdout",
     "output_type": "stream",
     "text": [
      "<class 'pandas.core.frame.DataFrame'>\n",
      "Int64Index: 72687 entries, 0 to 21804\n",
      "Data columns (total 8 columns):\n",
      " #   Column                   Non-Null Count  Dtype  \n",
      "---  ------                   --------------  -----  \n",
      " 0   ID                       72687 non-null  int64  \n",
      " 1   Region_Code              72687 non-null  int64  \n",
      " 2   Upper_Age                72687 non-null  int64  \n",
      " 3   Lower_Age                72687 non-null  int64  \n",
      " 4   Holding_Policy_Duration  72687 non-null  float64\n",
      " 5   Holding_Policy_Type      72687 non-null  float64\n",
      " 6   Reco_Policy_Cat          72687 non-null  int64  \n",
      " 7   Reco_Policy_Premium      72687 non-null  float64\n",
      "dtypes: float64(3), int64(5)\n",
      "memory usage: 5.0 MB\n"
     ]
    }
   ],
   "source": [
    "numeric_cols.info()"
   ]
  },
  {
   "cell_type": "code",
   "execution_count": 80,
   "id": "52defaab",
   "metadata": {},
   "outputs": [],
   "source": [
    "from sklearn.preprocessing import LabelEncoder,MinMaxScaler"
   ]
  },
  {
   "cell_type": "code",
   "execution_count": 81,
   "id": "24be4dd4",
   "metadata": {},
   "outputs": [],
   "source": [
    "le=LabelEncoder()\n",
    "mm=MinMaxScaler()"
   ]
  },
  {
   "cell_type": "markdown",
   "id": "6b5bab04",
   "metadata": {},
   "source": [
    "Transforming the object_cols with Label Encoding"
   ]
  },
  {
   "cell_type": "code",
   "execution_count": 82,
   "id": "7f338744",
   "metadata": {},
   "outputs": [],
   "source": [
    "object_le=object_cols.drop('Response',axis=1).apply(le.fit_transform)"
   ]
  },
  {
   "cell_type": "code",
   "execution_count": 86,
   "id": "890f24ec",
   "metadata": {},
   "outputs": [],
   "source": [
    "object_le=object_le.reset_index()"
   ]
  },
  {
   "cell_type": "code",
   "execution_count": 87,
   "id": "00bea06c",
   "metadata": {},
   "outputs": [
    {
     "data": {
      "text/html": [
       "<div>\n",
       "<style scoped>\n",
       "    .dataframe tbody tr th:only-of-type {\n",
       "        vertical-align: middle;\n",
       "    }\n",
       "\n",
       "    .dataframe tbody tr th {\n",
       "        vertical-align: top;\n",
       "    }\n",
       "\n",
       "    .dataframe thead th {\n",
       "        text-align: right;\n",
       "    }\n",
       "</style>\n",
       "<table border=\"1\" class=\"dataframe\">\n",
       "  <thead>\n",
       "    <tr style=\"text-align: right;\">\n",
       "      <th></th>\n",
       "      <th>index</th>\n",
       "      <th>City_Code</th>\n",
       "      <th>Accomodation_Type</th>\n",
       "      <th>Reco_Insurance_Type</th>\n",
       "      <th>Married</th>\n",
       "      <th>Health_Indicator</th>\n",
       "      <th>Response</th>\n",
       "    </tr>\n",
       "  </thead>\n",
       "  <tbody>\n",
       "    <tr>\n",
       "      <th>0</th>\n",
       "      <td>0</td>\n",
       "      <td>C3</td>\n",
       "      <td>Rented</td>\n",
       "      <td>Individual</td>\n",
       "      <td>No</td>\n",
       "      <td>X1</td>\n",
       "      <td>0</td>\n",
       "    </tr>\n",
       "    <tr>\n",
       "      <th>1</th>\n",
       "      <td>1</td>\n",
       "      <td>C5</td>\n",
       "      <td>Owned</td>\n",
       "      <td>Joint</td>\n",
       "      <td>No</td>\n",
       "      <td>X2</td>\n",
       "      <td>0</td>\n",
       "    </tr>\n",
       "    <tr>\n",
       "      <th>2</th>\n",
       "      <td>2</td>\n",
       "      <td>C5</td>\n",
       "      <td>Owned</td>\n",
       "      <td>Individual</td>\n",
       "      <td>No</td>\n",
       "      <td>X1</td>\n",
       "      <td>1</td>\n",
       "    </tr>\n",
       "    <tr>\n",
       "      <th>3</th>\n",
       "      <td>3</td>\n",
       "      <td>C24</td>\n",
       "      <td>Owned</td>\n",
       "      <td>Joint</td>\n",
       "      <td>No</td>\n",
       "      <td>X1</td>\n",
       "      <td>0</td>\n",
       "    </tr>\n",
       "    <tr>\n",
       "      <th>4</th>\n",
       "      <td>4</td>\n",
       "      <td>C8</td>\n",
       "      <td>Rented</td>\n",
       "      <td>Individual</td>\n",
       "      <td>No</td>\n",
       "      <td>X2</td>\n",
       "      <td>0</td>\n",
       "    </tr>\n",
       "    <tr>\n",
       "      <th>...</th>\n",
       "      <td>...</td>\n",
       "      <td>...</td>\n",
       "      <td>...</td>\n",
       "      <td>...</td>\n",
       "      <td>...</td>\n",
       "      <td>...</td>\n",
       "      <td>...</td>\n",
       "    </tr>\n",
       "    <tr>\n",
       "      <th>72682</th>\n",
       "      <td>21800</td>\n",
       "      <td>C3</td>\n",
       "      <td>Owned</td>\n",
       "      <td>Individual</td>\n",
       "      <td>No</td>\n",
       "      <td>X1</td>\n",
       "      <td>test</td>\n",
       "    </tr>\n",
       "    <tr>\n",
       "      <th>72683</th>\n",
       "      <td>21801</td>\n",
       "      <td>C4</td>\n",
       "      <td>Owned</td>\n",
       "      <td>Individual</td>\n",
       "      <td>No</td>\n",
       "      <td>X5</td>\n",
       "      <td>test</td>\n",
       "    </tr>\n",
       "    <tr>\n",
       "      <th>72684</th>\n",
       "      <td>21802</td>\n",
       "      <td>C12</td>\n",
       "      <td>Owned</td>\n",
       "      <td>Individual</td>\n",
       "      <td>No</td>\n",
       "      <td>X3</td>\n",
       "      <td>test</td>\n",
       "    </tr>\n",
       "    <tr>\n",
       "      <th>72685</th>\n",
       "      <td>21803</td>\n",
       "      <td>C10</td>\n",
       "      <td>Rented</td>\n",
       "      <td>Individual</td>\n",
       "      <td>No</td>\n",
       "      <td>X4</td>\n",
       "      <td>test</td>\n",
       "    </tr>\n",
       "    <tr>\n",
       "      <th>72686</th>\n",
       "      <td>21804</td>\n",
       "      <td>C2</td>\n",
       "      <td>Owned</td>\n",
       "      <td>Individual</td>\n",
       "      <td>No</td>\n",
       "      <td>X2</td>\n",
       "      <td>test</td>\n",
       "    </tr>\n",
       "  </tbody>\n",
       "</table>\n",
       "<p>72687 rows × 7 columns</p>\n",
       "</div>"
      ],
      "text/plain": [
       "       index City_Code Accomodation_Type Reco_Insurance_Type Married  \\\n",
       "0          0        C3            Rented          Individual      No   \n",
       "1          1        C5             Owned               Joint      No   \n",
       "2          2        C5             Owned          Individual      No   \n",
       "3          3       C24             Owned               Joint      No   \n",
       "4          4        C8            Rented          Individual      No   \n",
       "...      ...       ...               ...                 ...     ...   \n",
       "72682  21800        C3             Owned          Individual      No   \n",
       "72683  21801        C4             Owned          Individual      No   \n",
       "72684  21802       C12             Owned          Individual      No   \n",
       "72685  21803       C10            Rented          Individual      No   \n",
       "72686  21804        C2             Owned          Individual      No   \n",
       "\n",
       "      Health_Indicator Response  \n",
       "0                   X1        0  \n",
       "1                   X2        0  \n",
       "2                   X1        1  \n",
       "3                   X1        0  \n",
       "4                   X2        0  \n",
       "...                ...      ...  \n",
       "72682               X1     test  \n",
       "72683               X5     test  \n",
       "72684               X3     test  \n",
       "72685               X4     test  \n",
       "72686               X2     test  \n",
       "\n",
       "[72687 rows x 7 columns]"
      ]
     },
     "execution_count": 87,
     "metadata": {},
     "output_type": "execute_result"
    }
   ],
   "source": [
    "object_cols.reset_index()"
   ]
  },
  {
   "cell_type": "code",
   "execution_count": 41,
   "id": "4c8aa4c3",
   "metadata": {},
   "outputs": [
    {
     "data": {
      "text/html": [
       "<div>\n",
       "<style scoped>\n",
       "    .dataframe tbody tr th:only-of-type {\n",
       "        vertical-align: middle;\n",
       "    }\n",
       "\n",
       "    .dataframe tbody tr th {\n",
       "        vertical-align: top;\n",
       "    }\n",
       "\n",
       "    .dataframe thead th {\n",
       "        text-align: right;\n",
       "    }\n",
       "</style>\n",
       "<table border=\"1\" class=\"dataframe\">\n",
       "  <thead>\n",
       "    <tr style=\"text-align: right;\">\n",
       "      <th></th>\n",
       "      <th>index</th>\n",
       "      <th>City_Code</th>\n",
       "      <th>Accomodation_Type</th>\n",
       "      <th>Reco_Insurance_Type</th>\n",
       "      <th>Is_Spouse</th>\n",
       "      <th>Health Indicator</th>\n",
       "    </tr>\n",
       "  </thead>\n",
       "  <tbody>\n",
       "    <tr>\n",
       "      <th>0</th>\n",
       "      <td>0</td>\n",
       "      <td>22</td>\n",
       "      <td>1</td>\n",
       "      <td>0</td>\n",
       "      <td>0</td>\n",
       "      <td>0</td>\n",
       "    </tr>\n",
       "    <tr>\n",
       "      <th>1</th>\n",
       "      <td>1</td>\n",
       "      <td>31</td>\n",
       "      <td>0</td>\n",
       "      <td>1</td>\n",
       "      <td>0</td>\n",
       "      <td>1</td>\n",
       "    </tr>\n",
       "    <tr>\n",
       "      <th>2</th>\n",
       "      <td>2</td>\n",
       "      <td>31</td>\n",
       "      <td>0</td>\n",
       "      <td>0</td>\n",
       "      <td>0</td>\n",
       "      <td>0</td>\n",
       "    </tr>\n",
       "    <tr>\n",
       "      <th>3</th>\n",
       "      <td>3</td>\n",
       "      <td>16</td>\n",
       "      <td>0</td>\n",
       "      <td>1</td>\n",
       "      <td>0</td>\n",
       "      <td>0</td>\n",
       "    </tr>\n",
       "    <tr>\n",
       "      <th>4</th>\n",
       "      <td>4</td>\n",
       "      <td>34</td>\n",
       "      <td>1</td>\n",
       "      <td>0</td>\n",
       "      <td>0</td>\n",
       "      <td>1</td>\n",
       "    </tr>\n",
       "  </tbody>\n",
       "</table>\n",
       "</div>"
      ],
      "text/plain": [
       "   index  City_Code  Accomodation_Type  Reco_Insurance_Type  Is_Spouse  \\\n",
       "0      0         22                  1                    0          0   \n",
       "1      1         31                  0                    1          0   \n",
       "2      2         31                  0                    0          0   \n",
       "3      3         16                  0                    1          0   \n",
       "4      4         34                  1                    0          0   \n",
       "\n",
       "   Health Indicator  \n",
       "0                 0  \n",
       "1                 1  \n",
       "2                 0  \n",
       "3                 0  \n",
       "4                 1  "
      ]
     },
     "execution_count": 41,
     "metadata": {},
     "output_type": "execute_result"
    }
   ],
   "source": [
    "object_le.head()\n",
    "# successfully the data in the object cols is transoformed. "
   ]
  },
  {
   "cell_type": "code",
   "execution_count": 42,
   "id": "dc570b8d",
   "metadata": {},
   "outputs": [
    {
     "data": {
      "text/html": [
       "<div>\n",
       "<style scoped>\n",
       "    .dataframe tbody tr th:only-of-type {\n",
       "        vertical-align: middle;\n",
       "    }\n",
       "\n",
       "    .dataframe tbody tr th {\n",
       "        vertical-align: top;\n",
       "    }\n",
       "\n",
       "    .dataframe thead th {\n",
       "        text-align: right;\n",
       "    }\n",
       "</style>\n",
       "<table border=\"1\" class=\"dataframe\">\n",
       "  <thead>\n",
       "    <tr style=\"text-align: right;\">\n",
       "      <th></th>\n",
       "      <th>ID</th>\n",
       "      <th>City_Code</th>\n",
       "      <th>Region_Code</th>\n",
       "      <th>Accomodation_Type</th>\n",
       "      <th>Reco_Insurance_Type</th>\n",
       "      <th>Upper_Age</th>\n",
       "      <th>Lower_Age</th>\n",
       "      <th>Is_Spouse</th>\n",
       "      <th>Health Indicator</th>\n",
       "      <th>Holding_Policy_Duration</th>\n",
       "      <th>Holding_Policy_Type</th>\n",
       "      <th>Reco_Policy_Cat</th>\n",
       "      <th>Reco_Policy_Premium</th>\n",
       "      <th>Response</th>\n",
       "    </tr>\n",
       "  </thead>\n",
       "  <tbody>\n",
       "    <tr>\n",
       "      <th>0</th>\n",
       "      <td>False</td>\n",
       "      <td>False</td>\n",
       "      <td>False</td>\n",
       "      <td>False</td>\n",
       "      <td>False</td>\n",
       "      <td>False</td>\n",
       "      <td>False</td>\n",
       "      <td>False</td>\n",
       "      <td>False</td>\n",
       "      <td>False</td>\n",
       "      <td>False</td>\n",
       "      <td>False</td>\n",
       "      <td>False</td>\n",
       "      <td>False</td>\n",
       "    </tr>\n",
       "    <tr>\n",
       "      <th>1</th>\n",
       "      <td>False</td>\n",
       "      <td>False</td>\n",
       "      <td>False</td>\n",
       "      <td>False</td>\n",
       "      <td>False</td>\n",
       "      <td>False</td>\n",
       "      <td>False</td>\n",
       "      <td>False</td>\n",
       "      <td>False</td>\n",
       "      <td>False</td>\n",
       "      <td>False</td>\n",
       "      <td>False</td>\n",
       "      <td>False</td>\n",
       "      <td>False</td>\n",
       "    </tr>\n",
       "    <tr>\n",
       "      <th>2</th>\n",
       "      <td>False</td>\n",
       "      <td>False</td>\n",
       "      <td>False</td>\n",
       "      <td>False</td>\n",
       "      <td>False</td>\n",
       "      <td>False</td>\n",
       "      <td>False</td>\n",
       "      <td>False</td>\n",
       "      <td>False</td>\n",
       "      <td>False</td>\n",
       "      <td>False</td>\n",
       "      <td>False</td>\n",
       "      <td>False</td>\n",
       "      <td>False</td>\n",
       "    </tr>\n",
       "    <tr>\n",
       "      <th>3</th>\n",
       "      <td>False</td>\n",
       "      <td>False</td>\n",
       "      <td>False</td>\n",
       "      <td>False</td>\n",
       "      <td>False</td>\n",
       "      <td>False</td>\n",
       "      <td>False</td>\n",
       "      <td>False</td>\n",
       "      <td>False</td>\n",
       "      <td>False</td>\n",
       "      <td>False</td>\n",
       "      <td>False</td>\n",
       "      <td>False</td>\n",
       "      <td>False</td>\n",
       "    </tr>\n",
       "    <tr>\n",
       "      <th>4</th>\n",
       "      <td>False</td>\n",
       "      <td>False</td>\n",
       "      <td>False</td>\n",
       "      <td>False</td>\n",
       "      <td>False</td>\n",
       "      <td>False</td>\n",
       "      <td>False</td>\n",
       "      <td>False</td>\n",
       "      <td>False</td>\n",
       "      <td>False</td>\n",
       "      <td>False</td>\n",
       "      <td>False</td>\n",
       "      <td>False</td>\n",
       "      <td>False</td>\n",
       "    </tr>\n",
       "    <tr>\n",
       "      <th>...</th>\n",
       "      <td>...</td>\n",
       "      <td>...</td>\n",
       "      <td>...</td>\n",
       "      <td>...</td>\n",
       "      <td>...</td>\n",
       "      <td>...</td>\n",
       "      <td>...</td>\n",
       "      <td>...</td>\n",
       "      <td>...</td>\n",
       "      <td>...</td>\n",
       "      <td>...</td>\n",
       "      <td>...</td>\n",
       "      <td>...</td>\n",
       "      <td>...</td>\n",
       "    </tr>\n",
       "    <tr>\n",
       "      <th>21800</th>\n",
       "      <td>False</td>\n",
       "      <td>False</td>\n",
       "      <td>False</td>\n",
       "      <td>False</td>\n",
       "      <td>False</td>\n",
       "      <td>False</td>\n",
       "      <td>False</td>\n",
       "      <td>False</td>\n",
       "      <td>False</td>\n",
       "      <td>False</td>\n",
       "      <td>False</td>\n",
       "      <td>False</td>\n",
       "      <td>False</td>\n",
       "      <td>False</td>\n",
       "    </tr>\n",
       "    <tr>\n",
       "      <th>21801</th>\n",
       "      <td>False</td>\n",
       "      <td>False</td>\n",
       "      <td>False</td>\n",
       "      <td>False</td>\n",
       "      <td>False</td>\n",
       "      <td>False</td>\n",
       "      <td>False</td>\n",
       "      <td>False</td>\n",
       "      <td>False</td>\n",
       "      <td>False</td>\n",
       "      <td>False</td>\n",
       "      <td>False</td>\n",
       "      <td>False</td>\n",
       "      <td>False</td>\n",
       "    </tr>\n",
       "    <tr>\n",
       "      <th>21802</th>\n",
       "      <td>False</td>\n",
       "      <td>False</td>\n",
       "      <td>False</td>\n",
       "      <td>False</td>\n",
       "      <td>False</td>\n",
       "      <td>False</td>\n",
       "      <td>False</td>\n",
       "      <td>False</td>\n",
       "      <td>False</td>\n",
       "      <td>False</td>\n",
       "      <td>False</td>\n",
       "      <td>False</td>\n",
       "      <td>False</td>\n",
       "      <td>False</td>\n",
       "    </tr>\n",
       "    <tr>\n",
       "      <th>21803</th>\n",
       "      <td>False</td>\n",
       "      <td>False</td>\n",
       "      <td>False</td>\n",
       "      <td>False</td>\n",
       "      <td>False</td>\n",
       "      <td>False</td>\n",
       "      <td>False</td>\n",
       "      <td>False</td>\n",
       "      <td>False</td>\n",
       "      <td>False</td>\n",
       "      <td>False</td>\n",
       "      <td>False</td>\n",
       "      <td>False</td>\n",
       "      <td>False</td>\n",
       "    </tr>\n",
       "    <tr>\n",
       "      <th>21804</th>\n",
       "      <td>False</td>\n",
       "      <td>False</td>\n",
       "      <td>False</td>\n",
       "      <td>False</td>\n",
       "      <td>False</td>\n",
       "      <td>False</td>\n",
       "      <td>False</td>\n",
       "      <td>False</td>\n",
       "      <td>False</td>\n",
       "      <td>False</td>\n",
       "      <td>False</td>\n",
       "      <td>False</td>\n",
       "      <td>False</td>\n",
       "      <td>False</td>\n",
       "    </tr>\n",
       "  </tbody>\n",
       "</table>\n",
       "<p>72687 rows × 14 columns</p>\n",
       "</div>"
      ],
      "text/plain": [
       "          ID  City_Code  Region_Code  Accomodation_Type  Reco_Insurance_Type  \\\n",
       "0      False      False        False              False                False   \n",
       "1      False      False        False              False                False   \n",
       "2      False      False        False              False                False   \n",
       "3      False      False        False              False                False   \n",
       "4      False      False        False              False                False   \n",
       "...      ...        ...          ...                ...                  ...   \n",
       "21800  False      False        False              False                False   \n",
       "21801  False      False        False              False                False   \n",
       "21802  False      False        False              False                False   \n",
       "21803  False      False        False              False                False   \n",
       "21804  False      False        False              False                False   \n",
       "\n",
       "       Upper_Age  Lower_Age  Is_Spouse  Health Indicator  \\\n",
       "0          False      False      False             False   \n",
       "1          False      False      False             False   \n",
       "2          False      False      False             False   \n",
       "3          False      False      False             False   \n",
       "4          False      False      False             False   \n",
       "...          ...        ...        ...               ...   \n",
       "21800      False      False      False             False   \n",
       "21801      False      False      False             False   \n",
       "21802      False      False      False             False   \n",
       "21803      False      False      False             False   \n",
       "21804      False      False      False             False   \n",
       "\n",
       "       Holding_Policy_Duration  Holding_Policy_Type  Reco_Policy_Cat  \\\n",
       "0                        False                False            False   \n",
       "1                        False                False            False   \n",
       "2                        False                False            False   \n",
       "3                        False                False            False   \n",
       "4                        False                False            False   \n",
       "...                        ...                  ...              ...   \n",
       "21800                    False                False            False   \n",
       "21801                    False                False            False   \n",
       "21802                    False                False            False   \n",
       "21803                    False                False            False   \n",
       "21804                    False                False            False   \n",
       "\n",
       "       Reco_Policy_Premium  Response  \n",
       "0                    False     False  \n",
       "1                    False     False  \n",
       "2                    False     False  \n",
       "3                    False     False  \n",
       "4                    False     False  \n",
       "...                    ...       ...  \n",
       "21800                False     False  \n",
       "21801                False     False  \n",
       "21802                False     False  \n",
       "21803                False     False  \n",
       "21804                False     False  \n",
       "\n",
       "[72687 rows x 14 columns]"
      ]
     },
     "execution_count": 42,
     "metadata": {},
     "output_type": "execute_result"
    }
   ],
   "source": [
    "insurance_df.isnull()"
   ]
  },
  {
   "cell_type": "code",
   "execution_count": 43,
   "id": "a7b3217f",
   "metadata": {},
   "outputs": [
    {
     "data": {
      "text/plain": [
       "X1    35342\n",
       "X2    14848\n",
       "X3     9608\n",
       "X4     8185\n",
       "X5     2408\n",
       "X6     1794\n",
       "X7      292\n",
       "X8      119\n",
       "X9       91\n",
       "Name: Health Indicator, dtype: int64"
      ]
     },
     "execution_count": 43,
     "metadata": {},
     "output_type": "execute_result"
    }
   ],
   "source": [
    "insurance_df['Health Indicator'].value_counts()"
   ]
  },
  {
   "cell_type": "markdown",
   "id": "f20a7712",
   "metadata": {},
   "source": [
    "Scaling the data in the nuemric columns"
   ]
  },
  {
   "cell_type": "code",
   "execution_count": 89,
   "id": "6f889885",
   "metadata": {},
   "outputs": [],
   "source": [
    "numeric_mm=mm.fit_transform(numeric_cols.drop('ID',axis=1))"
   ]
  },
  {
   "cell_type": "code",
   "execution_count": 90,
   "id": "0d55ee45",
   "metadata": {},
   "outputs": [],
   "source": [
    "numeric_mm=pd.DataFrame(numeric_mm,columns=['Region_Code','Upper_Age','Lower_Age','Holding_Policy_Duration',\n",
    "                                            'Holding_Policy_Type','Reco_Policy_Cat',\n",
    "                                            'Reco_Policy_Premium'])"
   ]
  },
  {
   "cell_type": "code",
   "execution_count": 91,
   "id": "f4b26ad6",
   "metadata": {},
   "outputs": [],
   "source": [
    "numeric_mm=numeric_mm.reset_index()"
   ]
  },
  {
   "cell_type": "code",
   "execution_count": 92,
   "id": "1d7a9131",
   "metadata": {},
   "outputs": [
    {
     "data": {
      "text/html": [
       "<div>\n",
       "<style scoped>\n",
       "    .dataframe tbody tr th:only-of-type {\n",
       "        vertical-align: middle;\n",
       "    }\n",
       "\n",
       "    .dataframe tbody tr th {\n",
       "        vertical-align: top;\n",
       "    }\n",
       "\n",
       "    .dataframe thead th {\n",
       "        text-align: right;\n",
       "    }\n",
       "</style>\n",
       "<table border=\"1\" class=\"dataframe\">\n",
       "  <thead>\n",
       "    <tr style=\"text-align: right;\">\n",
       "      <th></th>\n",
       "      <th>index</th>\n",
       "      <th>Region_Code</th>\n",
       "      <th>Upper_Age</th>\n",
       "      <th>Lower_Age</th>\n",
       "      <th>Holding_Policy_Duration</th>\n",
       "      <th>Holding_Policy_Type</th>\n",
       "      <th>Reco_Policy_Cat</th>\n",
       "      <th>Reco_Policy_Premium</th>\n",
       "    </tr>\n",
       "  </thead>\n",
       "  <tbody>\n",
       "    <tr>\n",
       "      <th>0</th>\n",
       "      <td>0</td>\n",
       "      <td>0.518650</td>\n",
       "      <td>0.315789</td>\n",
       "      <td>0.338983</td>\n",
       "      <td>1.000000</td>\n",
       "      <td>0.666667</td>\n",
       "      <td>1.000000</td>\n",
       "      <td>0.227657</td>\n",
       "    </tr>\n",
       "    <tr>\n",
       "      <th>1</th>\n",
       "      <td>1</td>\n",
       "      <td>0.180203</td>\n",
       "      <td>1.000000</td>\n",
       "      <td>0.101695</td>\n",
       "      <td>0.307692</td>\n",
       "      <td>0.479829</td>\n",
       "      <td>1.000000</td>\n",
       "      <td>0.681290</td>\n",
       "    </tr>\n",
       "    <tr>\n",
       "      <th>2</th>\n",
       "      <td>2</td>\n",
       "      <td>0.602454</td>\n",
       "      <td>0.245614</td>\n",
       "      <td>0.271186</td>\n",
       "      <td>0.000000</td>\n",
       "      <td>0.000000</td>\n",
       "      <td>0.857143</td>\n",
       "      <td>0.127282</td>\n",
       "    </tr>\n",
       "    <tr>\n",
       "      <th>3</th>\n",
       "      <td>3</td>\n",
       "      <td>0.706766</td>\n",
       "      <td>0.596491</td>\n",
       "      <td>0.542373</td>\n",
       "      <td>1.000000</td>\n",
       "      <td>0.666667</td>\n",
       "      <td>0.857143</td>\n",
       "      <td>0.375456</td>\n",
       "    </tr>\n",
       "    <tr>\n",
       "      <th>4</th>\n",
       "      <td>4</td>\n",
       "      <td>0.353464</td>\n",
       "      <td>0.456140</td>\n",
       "      <td>0.474576</td>\n",
       "      <td>0.153846</td>\n",
       "      <td>0.000000</td>\n",
       "      <td>0.714286</td>\n",
       "      <td>0.198251</td>\n",
       "    </tr>\n",
       "  </tbody>\n",
       "</table>\n",
       "</div>"
      ],
      "text/plain": [
       "   index  Region_Code  Upper_Age  Lower_Age  Holding_Policy_Duration  \\\n",
       "0      0     0.518650   0.315789   0.338983                 1.000000   \n",
       "1      1     0.180203   1.000000   0.101695                 0.307692   \n",
       "2      2     0.602454   0.245614   0.271186                 0.000000   \n",
       "3      3     0.706766   0.596491   0.542373                 1.000000   \n",
       "4      4     0.353464   0.456140   0.474576                 0.153846   \n",
       "\n",
       "   Holding_Policy_Type  Reco_Policy_Cat  Reco_Policy_Premium  \n",
       "0             0.666667         1.000000             0.227657  \n",
       "1             0.479829         1.000000             0.681290  \n",
       "2             0.000000         0.857143             0.127282  \n",
       "3             0.666667         0.857143             0.375456  \n",
       "4             0.000000         0.714286             0.198251  "
      ]
     },
     "execution_count": 92,
     "metadata": {},
     "output_type": "execute_result"
    }
   ],
   "source": [
    "numeric_mm.head()\n",
    "#The data in the numeric cols is successfully scaled by using MinMAx scaler"
   ]
  },
  {
   "cell_type": "code",
   "execution_count": 94,
   "id": "53767642",
   "metadata": {},
   "outputs": [],
   "source": [
    "object_cols=object_cols.reset_index()"
   ]
  },
  {
   "cell_type": "code",
   "execution_count": 95,
   "id": "b4b43abb",
   "metadata": {},
   "outputs": [
    {
     "data": {
      "text/html": [
       "<div>\n",
       "<style scoped>\n",
       "    .dataframe tbody tr th:only-of-type {\n",
       "        vertical-align: middle;\n",
       "    }\n",
       "\n",
       "    .dataframe tbody tr th {\n",
       "        vertical-align: top;\n",
       "    }\n",
       "\n",
       "    .dataframe thead th {\n",
       "        text-align: right;\n",
       "    }\n",
       "</style>\n",
       "<table border=\"1\" class=\"dataframe\">\n",
       "  <thead>\n",
       "    <tr style=\"text-align: right;\">\n",
       "      <th></th>\n",
       "      <th>City_Code</th>\n",
       "      <th>Accomodation_Type</th>\n",
       "      <th>Reco_Insurance_Type</th>\n",
       "      <th>Married</th>\n",
       "      <th>Health_Indicator</th>\n",
       "      <th>Response</th>\n",
       "    </tr>\n",
       "  </thead>\n",
       "  <tbody>\n",
       "    <tr>\n",
       "      <th>0</th>\n",
       "      <td>C3</td>\n",
       "      <td>Rented</td>\n",
       "      <td>Individual</td>\n",
       "      <td>No</td>\n",
       "      <td>X1</td>\n",
       "      <td>0</td>\n",
       "    </tr>\n",
       "    <tr>\n",
       "      <th>1</th>\n",
       "      <td>C5</td>\n",
       "      <td>Owned</td>\n",
       "      <td>Joint</td>\n",
       "      <td>No</td>\n",
       "      <td>X2</td>\n",
       "      <td>0</td>\n",
       "    </tr>\n",
       "    <tr>\n",
       "      <th>2</th>\n",
       "      <td>C5</td>\n",
       "      <td>Owned</td>\n",
       "      <td>Individual</td>\n",
       "      <td>No</td>\n",
       "      <td>X1</td>\n",
       "      <td>1</td>\n",
       "    </tr>\n",
       "    <tr>\n",
       "      <th>3</th>\n",
       "      <td>C24</td>\n",
       "      <td>Owned</td>\n",
       "      <td>Joint</td>\n",
       "      <td>No</td>\n",
       "      <td>X1</td>\n",
       "      <td>0</td>\n",
       "    </tr>\n",
       "    <tr>\n",
       "      <th>4</th>\n",
       "      <td>C8</td>\n",
       "      <td>Rented</td>\n",
       "      <td>Individual</td>\n",
       "      <td>No</td>\n",
       "      <td>X2</td>\n",
       "      <td>0</td>\n",
       "    </tr>\n",
       "    <tr>\n",
       "      <th>...</th>\n",
       "      <td>...</td>\n",
       "      <td>...</td>\n",
       "      <td>...</td>\n",
       "      <td>...</td>\n",
       "      <td>...</td>\n",
       "      <td>...</td>\n",
       "    </tr>\n",
       "    <tr>\n",
       "      <th>72682</th>\n",
       "      <td>C3</td>\n",
       "      <td>Owned</td>\n",
       "      <td>Individual</td>\n",
       "      <td>No</td>\n",
       "      <td>X1</td>\n",
       "      <td>test</td>\n",
       "    </tr>\n",
       "    <tr>\n",
       "      <th>72683</th>\n",
       "      <td>C4</td>\n",
       "      <td>Owned</td>\n",
       "      <td>Individual</td>\n",
       "      <td>No</td>\n",
       "      <td>X5</td>\n",
       "      <td>test</td>\n",
       "    </tr>\n",
       "    <tr>\n",
       "      <th>72684</th>\n",
       "      <td>C12</td>\n",
       "      <td>Owned</td>\n",
       "      <td>Individual</td>\n",
       "      <td>No</td>\n",
       "      <td>X3</td>\n",
       "      <td>test</td>\n",
       "    </tr>\n",
       "    <tr>\n",
       "      <th>72685</th>\n",
       "      <td>C10</td>\n",
       "      <td>Rented</td>\n",
       "      <td>Individual</td>\n",
       "      <td>No</td>\n",
       "      <td>X4</td>\n",
       "      <td>test</td>\n",
       "    </tr>\n",
       "    <tr>\n",
       "      <th>72686</th>\n",
       "      <td>C2</td>\n",
       "      <td>Owned</td>\n",
       "      <td>Individual</td>\n",
       "      <td>No</td>\n",
       "      <td>X2</td>\n",
       "      <td>test</td>\n",
       "    </tr>\n",
       "  </tbody>\n",
       "</table>\n",
       "<p>72687 rows × 6 columns</p>\n",
       "</div>"
      ],
      "text/plain": [
       "      City_Code Accomodation_Type Reco_Insurance_Type Married  \\\n",
       "0            C3            Rented          Individual      No   \n",
       "1            C5             Owned               Joint      No   \n",
       "2            C5             Owned          Individual      No   \n",
       "3           C24             Owned               Joint      No   \n",
       "4            C8            Rented          Individual      No   \n",
       "...         ...               ...                 ...     ...   \n",
       "72682        C3             Owned          Individual      No   \n",
       "72683        C4             Owned          Individual      No   \n",
       "72684       C12             Owned          Individual      No   \n",
       "72685       C10            Rented          Individual      No   \n",
       "72686        C2             Owned          Individual      No   \n",
       "\n",
       "      Health_Indicator Response  \n",
       "0                   X1        0  \n",
       "1                   X2        0  \n",
       "2                   X1        1  \n",
       "3                   X1        0  \n",
       "4                   X2        0  \n",
       "...                ...      ...  \n",
       "72682               X1     test  \n",
       "72683               X5     test  \n",
       "72684               X3     test  \n",
       "72685               X4     test  \n",
       "72686               X2     test  \n",
       "\n",
       "[72687 rows x 6 columns]"
      ]
     },
     "execution_count": 95,
     "metadata": {},
     "output_type": "execute_result"
    }
   ],
   "source": [
    "object_cols.drop('index',axis=1)"
   ]
  },
  {
   "cell_type": "code",
   "execution_count": 50,
   "id": "5c54d377",
   "metadata": {},
   "outputs": [
    {
     "data": {
      "text/html": [
       "<div>\n",
       "<style scoped>\n",
       "    .dataframe tbody tr th:only-of-type {\n",
       "        vertical-align: middle;\n",
       "    }\n",
       "\n",
       "    .dataframe tbody tr th {\n",
       "        vertical-align: top;\n",
       "    }\n",
       "\n",
       "    .dataframe thead th {\n",
       "        text-align: right;\n",
       "    }\n",
       "</style>\n",
       "<table border=\"1\" class=\"dataframe\">\n",
       "  <thead>\n",
       "    <tr style=\"text-align: right;\">\n",
       "      <th></th>\n",
       "      <th>City_Code</th>\n",
       "      <th>Accomodation_Type</th>\n",
       "      <th>Reco_Insurance_Type</th>\n",
       "      <th>Is_Spouse</th>\n",
       "      <th>Health Indicator</th>\n",
       "      <th>Response</th>\n",
       "    </tr>\n",
       "  </thead>\n",
       "  <tbody>\n",
       "    <tr>\n",
       "      <th>0</th>\n",
       "      <td>C3</td>\n",
       "      <td>Rented</td>\n",
       "      <td>Individual</td>\n",
       "      <td>No</td>\n",
       "      <td>X1</td>\n",
       "      <td>0</td>\n",
       "    </tr>\n",
       "    <tr>\n",
       "      <th>1</th>\n",
       "      <td>C5</td>\n",
       "      <td>Owned</td>\n",
       "      <td>Joint</td>\n",
       "      <td>No</td>\n",
       "      <td>X2</td>\n",
       "      <td>0</td>\n",
       "    </tr>\n",
       "    <tr>\n",
       "      <th>2</th>\n",
       "      <td>C5</td>\n",
       "      <td>Owned</td>\n",
       "      <td>Individual</td>\n",
       "      <td>No</td>\n",
       "      <td>X1</td>\n",
       "      <td>1</td>\n",
       "    </tr>\n",
       "    <tr>\n",
       "      <th>3</th>\n",
       "      <td>C24</td>\n",
       "      <td>Owned</td>\n",
       "      <td>Joint</td>\n",
       "      <td>No</td>\n",
       "      <td>X1</td>\n",
       "      <td>0</td>\n",
       "    </tr>\n",
       "    <tr>\n",
       "      <th>4</th>\n",
       "      <td>C8</td>\n",
       "      <td>Rented</td>\n",
       "      <td>Individual</td>\n",
       "      <td>No</td>\n",
       "      <td>X2</td>\n",
       "      <td>0</td>\n",
       "    </tr>\n",
       "  </tbody>\n",
       "</table>\n",
       "</div>"
      ],
      "text/plain": [
       "  City_Code Accomodation_Type Reco_Insurance_Type Is_Spouse Health Indicator  \\\n",
       "0        C3            Rented          Individual        No               X1   \n",
       "1        C5             Owned               Joint        No               X2   \n",
       "2        C5             Owned          Individual        No               X1   \n",
       "3       C24             Owned               Joint        No               X1   \n",
       "4        C8            Rented          Individual        No               X2   \n",
       "\n",
       "  Response  \n",
       "0        0  \n",
       "1        0  \n",
       "2        1  \n",
       "3        0  \n",
       "4        0  "
      ]
     },
     "execution_count": 50,
     "metadata": {},
     "output_type": "execute_result"
    }
   ],
   "source": [
    "object_cols.head()"
   ]
  },
  {
   "cell_type": "code",
   "execution_count": 96,
   "id": "01ffe829",
   "metadata": {},
   "outputs": [
    {
     "data": {
      "text/html": [
       "<div>\n",
       "<style scoped>\n",
       "    .dataframe tbody tr th:only-of-type {\n",
       "        vertical-align: middle;\n",
       "    }\n",
       "\n",
       "    .dataframe tbody tr th {\n",
       "        vertical-align: top;\n",
       "    }\n",
       "\n",
       "    .dataframe thead th {\n",
       "        text-align: right;\n",
       "    }\n",
       "</style>\n",
       "<table border=\"1\" class=\"dataframe\">\n",
       "  <thead>\n",
       "    <tr style=\"text-align: right;\">\n",
       "      <th></th>\n",
       "      <th>level_0</th>\n",
       "      <th>City_Code</th>\n",
       "      <th>Accomodation_Type</th>\n",
       "      <th>Reco_Insurance_Type</th>\n",
       "      <th>Married</th>\n",
       "      <th>Health_Indicator</th>\n",
       "    </tr>\n",
       "  </thead>\n",
       "  <tbody>\n",
       "    <tr>\n",
       "      <th>0</th>\n",
       "      <td>0</td>\n",
       "      <td>22</td>\n",
       "      <td>1</td>\n",
       "      <td>0</td>\n",
       "      <td>0</td>\n",
       "      <td>0</td>\n",
       "    </tr>\n",
       "    <tr>\n",
       "      <th>1</th>\n",
       "      <td>1</td>\n",
       "      <td>31</td>\n",
       "      <td>0</td>\n",
       "      <td>1</td>\n",
       "      <td>0</td>\n",
       "      <td>1</td>\n",
       "    </tr>\n",
       "    <tr>\n",
       "      <th>2</th>\n",
       "      <td>2</td>\n",
       "      <td>31</td>\n",
       "      <td>0</td>\n",
       "      <td>0</td>\n",
       "      <td>0</td>\n",
       "      <td>0</td>\n",
       "    </tr>\n",
       "    <tr>\n",
       "      <th>3</th>\n",
       "      <td>3</td>\n",
       "      <td>16</td>\n",
       "      <td>0</td>\n",
       "      <td>1</td>\n",
       "      <td>0</td>\n",
       "      <td>0</td>\n",
       "    </tr>\n",
       "    <tr>\n",
       "      <th>4</th>\n",
       "      <td>4</td>\n",
       "      <td>34</td>\n",
       "      <td>1</td>\n",
       "      <td>0</td>\n",
       "      <td>0</td>\n",
       "      <td>1</td>\n",
       "    </tr>\n",
       "    <tr>\n",
       "      <th>...</th>\n",
       "      <td>...</td>\n",
       "      <td>...</td>\n",
       "      <td>...</td>\n",
       "      <td>...</td>\n",
       "      <td>...</td>\n",
       "      <td>...</td>\n",
       "    </tr>\n",
       "    <tr>\n",
       "      <th>72682</th>\n",
       "      <td>72682</td>\n",
       "      <td>22</td>\n",
       "      <td>0</td>\n",
       "      <td>0</td>\n",
       "      <td>0</td>\n",
       "      <td>0</td>\n",
       "    </tr>\n",
       "    <tr>\n",
       "      <th>72683</th>\n",
       "      <td>72683</td>\n",
       "      <td>30</td>\n",
       "      <td>0</td>\n",
       "      <td>0</td>\n",
       "      <td>0</td>\n",
       "      <td>4</td>\n",
       "    </tr>\n",
       "    <tr>\n",
       "      <th>72684</th>\n",
       "      <td>72684</td>\n",
       "      <td>3</td>\n",
       "      <td>0</td>\n",
       "      <td>0</td>\n",
       "      <td>0</td>\n",
       "      <td>2</td>\n",
       "    </tr>\n",
       "    <tr>\n",
       "      <th>72685</th>\n",
       "      <td>72685</td>\n",
       "      <td>1</td>\n",
       "      <td>1</td>\n",
       "      <td>0</td>\n",
       "      <td>0</td>\n",
       "      <td>3</td>\n",
       "    </tr>\n",
       "    <tr>\n",
       "      <th>72686</th>\n",
       "      <td>72686</td>\n",
       "      <td>11</td>\n",
       "      <td>0</td>\n",
       "      <td>0</td>\n",
       "      <td>0</td>\n",
       "      <td>1</td>\n",
       "    </tr>\n",
       "  </tbody>\n",
       "</table>\n",
       "<p>72687 rows × 6 columns</p>\n",
       "</div>"
      ],
      "text/plain": [
       "       level_0  City_Code  Accomodation_Type  Reco_Insurance_Type  Married  \\\n",
       "0            0         22                  1                    0        0   \n",
       "1            1         31                  0                    1        0   \n",
       "2            2         31                  0                    0        0   \n",
       "3            3         16                  0                    1        0   \n",
       "4            4         34                  1                    0        0   \n",
       "...        ...        ...                ...                  ...      ...   \n",
       "72682    72682         22                  0                    0        0   \n",
       "72683    72683         30                  0                    0        0   \n",
       "72684    72684          3                  0                    0        0   \n",
       "72685    72685          1                  1                    0        0   \n",
       "72686    72686         11                  0                    0        0   \n",
       "\n",
       "       Health_Indicator  \n",
       "0                     0  \n",
       "1                     1  \n",
       "2                     0  \n",
       "3                     0  \n",
       "4                     1  \n",
       "...                 ...  \n",
       "72682                 0  \n",
       "72683                 4  \n",
       "72684                 2  \n",
       "72685                 3  \n",
       "72686                 1  \n",
       "\n",
       "[72687 rows x 6 columns]"
      ]
     },
     "execution_count": 96,
     "metadata": {},
     "output_type": "execute_result"
    }
   ],
   "source": [
    "object_le.drop('index',axis=1)"
   ]
  },
  {
   "cell_type": "code",
   "execution_count": 97,
   "id": "51a81e0a",
   "metadata": {},
   "outputs": [
    {
     "data": {
      "text/html": [
       "<div>\n",
       "<style scoped>\n",
       "    .dataframe tbody tr th:only-of-type {\n",
       "        vertical-align: middle;\n",
       "    }\n",
       "\n",
       "    .dataframe tbody tr th {\n",
       "        vertical-align: top;\n",
       "    }\n",
       "\n",
       "    .dataframe thead th {\n",
       "        text-align: right;\n",
       "    }\n",
       "</style>\n",
       "<table border=\"1\" class=\"dataframe\">\n",
       "  <thead>\n",
       "    <tr style=\"text-align: right;\">\n",
       "      <th></th>\n",
       "      <th>Region_Code</th>\n",
       "      <th>Upper_Age</th>\n",
       "      <th>Lower_Age</th>\n",
       "      <th>Holding_Policy_Duration</th>\n",
       "      <th>Holding_Policy_Type</th>\n",
       "      <th>Reco_Policy_Cat</th>\n",
       "      <th>Reco_Policy_Premium</th>\n",
       "    </tr>\n",
       "  </thead>\n",
       "  <tbody>\n",
       "    <tr>\n",
       "      <th>0</th>\n",
       "      <td>0.518650</td>\n",
       "      <td>0.315789</td>\n",
       "      <td>0.338983</td>\n",
       "      <td>1.000000</td>\n",
       "      <td>0.666667</td>\n",
       "      <td>1.000000</td>\n",
       "      <td>0.227657</td>\n",
       "    </tr>\n",
       "    <tr>\n",
       "      <th>1</th>\n",
       "      <td>0.180203</td>\n",
       "      <td>1.000000</td>\n",
       "      <td>0.101695</td>\n",
       "      <td>0.307692</td>\n",
       "      <td>0.479829</td>\n",
       "      <td>1.000000</td>\n",
       "      <td>0.681290</td>\n",
       "    </tr>\n",
       "    <tr>\n",
       "      <th>2</th>\n",
       "      <td>0.602454</td>\n",
       "      <td>0.245614</td>\n",
       "      <td>0.271186</td>\n",
       "      <td>0.000000</td>\n",
       "      <td>0.000000</td>\n",
       "      <td>0.857143</td>\n",
       "      <td>0.127282</td>\n",
       "    </tr>\n",
       "    <tr>\n",
       "      <th>3</th>\n",
       "      <td>0.706766</td>\n",
       "      <td>0.596491</td>\n",
       "      <td>0.542373</td>\n",
       "      <td>1.000000</td>\n",
       "      <td>0.666667</td>\n",
       "      <td>0.857143</td>\n",
       "      <td>0.375456</td>\n",
       "    </tr>\n",
       "    <tr>\n",
       "      <th>4</th>\n",
       "      <td>0.353464</td>\n",
       "      <td>0.456140</td>\n",
       "      <td>0.474576</td>\n",
       "      <td>0.153846</td>\n",
       "      <td>0.000000</td>\n",
       "      <td>0.714286</td>\n",
       "      <td>0.198251</td>\n",
       "    </tr>\n",
       "    <tr>\n",
       "      <th>...</th>\n",
       "      <td>...</td>\n",
       "      <td>...</td>\n",
       "      <td>...</td>\n",
       "      <td>...</td>\n",
       "      <td>...</td>\n",
       "      <td>...</td>\n",
       "      <td>...</td>\n",
       "    </tr>\n",
       "    <tr>\n",
       "      <th>72682</th>\n",
       "      <td>0.168416</td>\n",
       "      <td>0.473684</td>\n",
       "      <td>0.491525</td>\n",
       "      <td>0.230769</td>\n",
       "      <td>0.000000</td>\n",
       "      <td>0.809524</td>\n",
       "      <td>0.329906</td>\n",
       "    </tr>\n",
       "    <tr>\n",
       "      <th>72683</th>\n",
       "      <td>0.042790</td>\n",
       "      <td>0.719298</td>\n",
       "      <td>0.728814</td>\n",
       "      <td>0.384615</td>\n",
       "      <td>0.666667</td>\n",
       "      <td>0.809524</td>\n",
       "      <td>0.462185</td>\n",
       "    </tr>\n",
       "    <tr>\n",
       "      <th>72684</th>\n",
       "      <td>0.398676</td>\n",
       "      <td>0.982456</td>\n",
       "      <td>0.983051</td>\n",
       "      <td>0.307692</td>\n",
       "      <td>0.479829</td>\n",
       "      <td>0.000000</td>\n",
       "      <td>0.376802</td>\n",
       "    </tr>\n",
       "    <tr>\n",
       "      <th>72685</th>\n",
       "      <td>0.270467</td>\n",
       "      <td>0.122807</td>\n",
       "      <td>0.152542</td>\n",
       "      <td>0.153846</td>\n",
       "      <td>0.000000</td>\n",
       "      <td>0.857143</td>\n",
       "      <td>0.226216</td>\n",
       "    </tr>\n",
       "    <tr>\n",
       "      <th>72686</th>\n",
       "      <td>0.583885</td>\n",
       "      <td>0.964912</td>\n",
       "      <td>0.966102</td>\n",
       "      <td>1.000000</td>\n",
       "      <td>0.333333</td>\n",
       "      <td>0.095238</td>\n",
       "      <td>0.501826</td>\n",
       "    </tr>\n",
       "  </tbody>\n",
       "</table>\n",
       "<p>72687 rows × 7 columns</p>\n",
       "</div>"
      ],
      "text/plain": [
       "       Region_Code  Upper_Age  Lower_Age  Holding_Policy_Duration  \\\n",
       "0         0.518650   0.315789   0.338983                 1.000000   \n",
       "1         0.180203   1.000000   0.101695                 0.307692   \n",
       "2         0.602454   0.245614   0.271186                 0.000000   \n",
       "3         0.706766   0.596491   0.542373                 1.000000   \n",
       "4         0.353464   0.456140   0.474576                 0.153846   \n",
       "...            ...        ...        ...                      ...   \n",
       "72682     0.168416   0.473684   0.491525                 0.230769   \n",
       "72683     0.042790   0.719298   0.728814                 0.384615   \n",
       "72684     0.398676   0.982456   0.983051                 0.307692   \n",
       "72685     0.270467   0.122807   0.152542                 0.153846   \n",
       "72686     0.583885   0.964912   0.966102                 1.000000   \n",
       "\n",
       "       Holding_Policy_Type  Reco_Policy_Cat  Reco_Policy_Premium  \n",
       "0                 0.666667         1.000000             0.227657  \n",
       "1                 0.479829         1.000000             0.681290  \n",
       "2                 0.000000         0.857143             0.127282  \n",
       "3                 0.666667         0.857143             0.375456  \n",
       "4                 0.000000         0.714286             0.198251  \n",
       "...                    ...              ...                  ...  \n",
       "72682             0.000000         0.809524             0.329906  \n",
       "72683             0.666667         0.809524             0.462185  \n",
       "72684             0.479829         0.000000             0.376802  \n",
       "72685             0.000000         0.857143             0.226216  \n",
       "72686             0.333333         0.095238             0.501826  \n",
       "\n",
       "[72687 rows x 7 columns]"
      ]
     },
     "execution_count": 97,
     "metadata": {},
     "output_type": "execute_result"
    }
   ],
   "source": [
    "numeric_mm.drop('index',axis=1)"
   ]
  },
  {
   "cell_type": "code",
   "execution_count": 99,
   "id": "088c4a66",
   "metadata": {},
   "outputs": [],
   "source": [
    "insurance_df1=pd.concat([object_le,numeric_mm,object_cols.Response],axis=1)\n",
    "#Concating the tranformmed columns, scaled columns and dependent variable column "
   ]
  },
  {
   "cell_type": "code",
   "execution_count": 100,
   "id": "a5d7aee9",
   "metadata": {},
   "outputs": [
    {
     "name": "stdout",
     "output_type": "stream",
     "text": [
      "<class 'pandas.core.frame.DataFrame'>\n",
      "RangeIndex: 72687 entries, 0 to 72686\n",
      "Data columns (total 16 columns):\n",
      " #   Column                   Non-Null Count  Dtype  \n",
      "---  ------                   --------------  -----  \n",
      " 0   level_0                  72687 non-null  int64  \n",
      " 1   index                    72687 non-null  int64  \n",
      " 2   City_Code                72687 non-null  int32  \n",
      " 3   Accomodation_Type        72687 non-null  int32  \n",
      " 4   Reco_Insurance_Type      72687 non-null  int32  \n",
      " 5   Married                  72687 non-null  int32  \n",
      " 6   Health_Indicator         72687 non-null  int32  \n",
      " 7   index                    72687 non-null  int64  \n",
      " 8   Region_Code              72687 non-null  float64\n",
      " 9   Upper_Age                72687 non-null  float64\n",
      " 10  Lower_Age                72687 non-null  float64\n",
      " 11  Holding_Policy_Duration  72687 non-null  float64\n",
      " 12  Holding_Policy_Type      72687 non-null  float64\n",
      " 13  Reco_Policy_Cat          72687 non-null  float64\n",
      " 14  Reco_Policy_Premium      72687 non-null  float64\n",
      " 15  Response                 72687 non-null  object \n",
      "dtypes: float64(7), int32(5), int64(3), object(1)\n",
      "memory usage: 7.5+ MB\n"
     ]
    }
   ],
   "source": [
    "insurance_df1.info()"
   ]
  },
  {
   "cell_type": "code",
   "execution_count": 101,
   "id": "51bcfc68",
   "metadata": {},
   "outputs": [],
   "source": [
    "test_df=insurance_df1[insurance_df1.Response=='test']\n",
    "train_df=insurance_df1[insurance_df1.Response!='test']\n",
    "# seperating the data with test train "
   ]
  },
  {
   "cell_type": "code",
   "execution_count": 102,
   "id": "794b8801",
   "metadata": {},
   "outputs": [
    {
     "data": {
      "text/html": [
       "<div>\n",
       "<style scoped>\n",
       "    .dataframe tbody tr th:only-of-type {\n",
       "        vertical-align: middle;\n",
       "    }\n",
       "\n",
       "    .dataframe tbody tr th {\n",
       "        vertical-align: top;\n",
       "    }\n",
       "\n",
       "    .dataframe thead th {\n",
       "        text-align: right;\n",
       "    }\n",
       "</style>\n",
       "<table border=\"1\" class=\"dataframe\">\n",
       "  <thead>\n",
       "    <tr style=\"text-align: right;\">\n",
       "      <th></th>\n",
       "      <th>level_0</th>\n",
       "      <th>index</th>\n",
       "      <th>City_Code</th>\n",
       "      <th>Accomodation_Type</th>\n",
       "      <th>Reco_Insurance_Type</th>\n",
       "      <th>Married</th>\n",
       "      <th>Health_Indicator</th>\n",
       "      <th>index</th>\n",
       "      <th>Region_Code</th>\n",
       "      <th>Upper_Age</th>\n",
       "      <th>Lower_Age</th>\n",
       "      <th>Holding_Policy_Duration</th>\n",
       "      <th>Holding_Policy_Type</th>\n",
       "      <th>Reco_Policy_Cat</th>\n",
       "      <th>Reco_Policy_Premium</th>\n",
       "      <th>Response</th>\n",
       "    </tr>\n",
       "  </thead>\n",
       "  <tbody>\n",
       "    <tr>\n",
       "      <th>50882</th>\n",
       "      <td>50882</td>\n",
       "      <td>0</td>\n",
       "      <td>0</td>\n",
       "      <td>0</td>\n",
       "      <td>0</td>\n",
       "      <td>0</td>\n",
       "      <td>0</td>\n",
       "      <td>50882</td>\n",
       "      <td>0.025028</td>\n",
       "      <td>0.210526</td>\n",
       "      <td>0.237288</td>\n",
       "      <td>0.384615</td>\n",
       "      <td>0.666667</td>\n",
       "      <td>0.190476</td>\n",
       "      <td>0.235009</td>\n",
       "      <td>test</td>\n",
       "    </tr>\n",
       "    <tr>\n",
       "      <th>50883</th>\n",
       "      <td>50883</td>\n",
       "      <td>1</td>\n",
       "      <td>30</td>\n",
       "      <td>0</td>\n",
       "      <td>1</td>\n",
       "      <td>1</td>\n",
       "      <td>0</td>\n",
       "      <td>50883</td>\n",
       "      <td>0.000969</td>\n",
       "      <td>0.894737</td>\n",
       "      <td>0.881356</td>\n",
       "      <td>0.153846</td>\n",
       "      <td>0.666667</td>\n",
       "      <td>0.809524</td>\n",
       "      <td>0.722007</td>\n",
       "      <td>test</td>\n",
       "    </tr>\n",
       "    <tr>\n",
       "      <th>50884</th>\n",
       "      <td>50884</td>\n",
       "      <td>2</td>\n",
       "      <td>0</td>\n",
       "      <td>1</td>\n",
       "      <td>0</td>\n",
       "      <td>0</td>\n",
       "      <td>2</td>\n",
       "      <td>50884</td>\n",
       "      <td>0.090909</td>\n",
       "      <td>0.175439</td>\n",
       "      <td>0.203390</td>\n",
       "      <td>0.076923</td>\n",
       "      <td>1.000000</td>\n",
       "      <td>0.761905</td>\n",
       "      <td>0.170286</td>\n",
       "      <td>test</td>\n",
       "    </tr>\n",
       "    <tr>\n",
       "      <th>50885</th>\n",
       "      <td>50885</td>\n",
       "      <td>3</td>\n",
       "      <td>22</td>\n",
       "      <td>1</td>\n",
       "      <td>0</td>\n",
       "      <td>0</td>\n",
       "      <td>2</td>\n",
       "      <td>50885</td>\n",
       "      <td>0.189892</td>\n",
       "      <td>0.087719</td>\n",
       "      <td>0.118644</td>\n",
       "      <td>0.153846</td>\n",
       "      <td>0.666667</td>\n",
       "      <td>0.809524</td>\n",
       "      <td>0.166587</td>\n",
       "      <td>test</td>\n",
       "    </tr>\n",
       "    <tr>\n",
       "      <th>50886</th>\n",
       "      <td>50886</td>\n",
       "      <td>4</td>\n",
       "      <td>0</td>\n",
       "      <td>0</td>\n",
       "      <td>0</td>\n",
       "      <td>0</td>\n",
       "      <td>2</td>\n",
       "      <td>50886</td>\n",
       "      <td>0.153399</td>\n",
       "      <td>1.000000</td>\n",
       "      <td>1.000000</td>\n",
       "      <td>0.307692</td>\n",
       "      <td>0.479829</td>\n",
       "      <td>0.190476</td>\n",
       "      <td>0.489669</td>\n",
       "      <td>test</td>\n",
       "    </tr>\n",
       "  </tbody>\n",
       "</table>\n",
       "</div>"
      ],
      "text/plain": [
       "       level_0  index  City_Code  Accomodation_Type  Reco_Insurance_Type  \\\n",
       "50882    50882      0          0                  0                    0   \n",
       "50883    50883      1         30                  0                    1   \n",
       "50884    50884      2          0                  1                    0   \n",
       "50885    50885      3         22                  1                    0   \n",
       "50886    50886      4          0                  0                    0   \n",
       "\n",
       "       Married  Health_Indicator  index  Region_Code  Upper_Age  Lower_Age  \\\n",
       "50882        0                 0  50882     0.025028   0.210526   0.237288   \n",
       "50883        1                 0  50883     0.000969   0.894737   0.881356   \n",
       "50884        0                 2  50884     0.090909   0.175439   0.203390   \n",
       "50885        0                 2  50885     0.189892   0.087719   0.118644   \n",
       "50886        0                 2  50886     0.153399   1.000000   1.000000   \n",
       "\n",
       "       Holding_Policy_Duration  Holding_Policy_Type  Reco_Policy_Cat  \\\n",
       "50882                 0.384615             0.666667         0.190476   \n",
       "50883                 0.153846             0.666667         0.809524   \n",
       "50884                 0.076923             1.000000         0.761905   \n",
       "50885                 0.153846             0.666667         0.809524   \n",
       "50886                 0.307692             0.479829         0.190476   \n",
       "\n",
       "       Reco_Policy_Premium Response  \n",
       "50882             0.235009     test  \n",
       "50883             0.722007     test  \n",
       "50884             0.170286     test  \n",
       "50885             0.166587     test  \n",
       "50886             0.489669     test  "
      ]
     },
     "execution_count": 102,
     "metadata": {},
     "output_type": "execute_result"
    }
   ],
   "source": [
    "test_df.head()"
   ]
  },
  {
   "cell_type": "code",
   "execution_count": 103,
   "id": "acd4b6ef",
   "metadata": {},
   "outputs": [
    {
     "data": {
      "text/html": [
       "<div>\n",
       "<style scoped>\n",
       "    .dataframe tbody tr th:only-of-type {\n",
       "        vertical-align: middle;\n",
       "    }\n",
       "\n",
       "    .dataframe tbody tr th {\n",
       "        vertical-align: top;\n",
       "    }\n",
       "\n",
       "    .dataframe thead th {\n",
       "        text-align: right;\n",
       "    }\n",
       "</style>\n",
       "<table border=\"1\" class=\"dataframe\">\n",
       "  <thead>\n",
       "    <tr style=\"text-align: right;\">\n",
       "      <th></th>\n",
       "      <th>level_0</th>\n",
       "      <th>index</th>\n",
       "      <th>City_Code</th>\n",
       "      <th>Accomodation_Type</th>\n",
       "      <th>Reco_Insurance_Type</th>\n",
       "      <th>Married</th>\n",
       "      <th>Health_Indicator</th>\n",
       "      <th>index</th>\n",
       "      <th>Region_Code</th>\n",
       "      <th>Upper_Age</th>\n",
       "      <th>Lower_Age</th>\n",
       "      <th>Holding_Policy_Duration</th>\n",
       "      <th>Holding_Policy_Type</th>\n",
       "      <th>Reco_Policy_Cat</th>\n",
       "      <th>Reco_Policy_Premium</th>\n",
       "      <th>Response</th>\n",
       "    </tr>\n",
       "  </thead>\n",
       "  <tbody>\n",
       "    <tr>\n",
       "      <th>0</th>\n",
       "      <td>0</td>\n",
       "      <td>0</td>\n",
       "      <td>22</td>\n",
       "      <td>1</td>\n",
       "      <td>0</td>\n",
       "      <td>0</td>\n",
       "      <td>0</td>\n",
       "      <td>0</td>\n",
       "      <td>0.518650</td>\n",
       "      <td>0.315789</td>\n",
       "      <td>0.338983</td>\n",
       "      <td>1.000000</td>\n",
       "      <td>0.666667</td>\n",
       "      <td>1.000000</td>\n",
       "      <td>0.227657</td>\n",
       "      <td>0</td>\n",
       "    </tr>\n",
       "    <tr>\n",
       "      <th>1</th>\n",
       "      <td>1</td>\n",
       "      <td>1</td>\n",
       "      <td>31</td>\n",
       "      <td>0</td>\n",
       "      <td>1</td>\n",
       "      <td>0</td>\n",
       "      <td>1</td>\n",
       "      <td>1</td>\n",
       "      <td>0.180203</td>\n",
       "      <td>1.000000</td>\n",
       "      <td>0.101695</td>\n",
       "      <td>0.307692</td>\n",
       "      <td>0.479829</td>\n",
       "      <td>1.000000</td>\n",
       "      <td>0.681290</td>\n",
       "      <td>0</td>\n",
       "    </tr>\n",
       "    <tr>\n",
       "      <th>2</th>\n",
       "      <td>2</td>\n",
       "      <td>2</td>\n",
       "      <td>31</td>\n",
       "      <td>0</td>\n",
       "      <td>0</td>\n",
       "      <td>0</td>\n",
       "      <td>0</td>\n",
       "      <td>2</td>\n",
       "      <td>0.602454</td>\n",
       "      <td>0.245614</td>\n",
       "      <td>0.271186</td>\n",
       "      <td>0.000000</td>\n",
       "      <td>0.000000</td>\n",
       "      <td>0.857143</td>\n",
       "      <td>0.127282</td>\n",
       "      <td>1</td>\n",
       "    </tr>\n",
       "    <tr>\n",
       "      <th>3</th>\n",
       "      <td>3</td>\n",
       "      <td>3</td>\n",
       "      <td>16</td>\n",
       "      <td>0</td>\n",
       "      <td>1</td>\n",
       "      <td>0</td>\n",
       "      <td>0</td>\n",
       "      <td>3</td>\n",
       "      <td>0.706766</td>\n",
       "      <td>0.596491</td>\n",
       "      <td>0.542373</td>\n",
       "      <td>1.000000</td>\n",
       "      <td>0.666667</td>\n",
       "      <td>0.857143</td>\n",
       "      <td>0.375456</td>\n",
       "      <td>0</td>\n",
       "    </tr>\n",
       "    <tr>\n",
       "      <th>4</th>\n",
       "      <td>4</td>\n",
       "      <td>4</td>\n",
       "      <td>34</td>\n",
       "      <td>1</td>\n",
       "      <td>0</td>\n",
       "      <td>0</td>\n",
       "      <td>1</td>\n",
       "      <td>4</td>\n",
       "      <td>0.353464</td>\n",
       "      <td>0.456140</td>\n",
       "      <td>0.474576</td>\n",
       "      <td>0.153846</td>\n",
       "      <td>0.000000</td>\n",
       "      <td>0.714286</td>\n",
       "      <td>0.198251</td>\n",
       "      <td>0</td>\n",
       "    </tr>\n",
       "  </tbody>\n",
       "</table>\n",
       "</div>"
      ],
      "text/plain": [
       "   level_0  index  City_Code  Accomodation_Type  Reco_Insurance_Type  Married  \\\n",
       "0        0      0         22                  1                    0        0   \n",
       "1        1      1         31                  0                    1        0   \n",
       "2        2      2         31                  0                    0        0   \n",
       "3        3      3         16                  0                    1        0   \n",
       "4        4      4         34                  1                    0        0   \n",
       "\n",
       "   Health_Indicator  index  Region_Code  Upper_Age  Lower_Age  \\\n",
       "0                 0      0     0.518650   0.315789   0.338983   \n",
       "1                 1      1     0.180203   1.000000   0.101695   \n",
       "2                 0      2     0.602454   0.245614   0.271186   \n",
       "3                 0      3     0.706766   0.596491   0.542373   \n",
       "4                 1      4     0.353464   0.456140   0.474576   \n",
       "\n",
       "   Holding_Policy_Duration  Holding_Policy_Type  Reco_Policy_Cat  \\\n",
       "0                 1.000000             0.666667         1.000000   \n",
       "1                 0.307692             0.479829         1.000000   \n",
       "2                 0.000000             0.000000         0.857143   \n",
       "3                 1.000000             0.666667         0.857143   \n",
       "4                 0.153846             0.000000         0.714286   \n",
       "\n",
       "   Reco_Policy_Premium Response  \n",
       "0             0.227657        0  \n",
       "1             0.681290        0  \n",
       "2             0.127282        1  \n",
       "3             0.375456        0  \n",
       "4             0.198251        0  "
      ]
     },
     "execution_count": 103,
     "metadata": {},
     "output_type": "execute_result"
    }
   ],
   "source": [
    "train_df.head()"
   ]
  },
  {
   "cell_type": "code",
   "execution_count": 113,
   "id": "1afbd483",
   "metadata": {},
   "outputs": [],
   "source": [
    "y=train_df.Response\n",
    "x=train_df.drop(['Response','index'],axis=1)"
   ]
  },
  {
   "cell_type": "code",
   "execution_count": 114,
   "id": "c2e1e171",
   "metadata": {},
   "outputs": [],
   "source": [
    "y=y.astype('int64')\n",
    "#converting the data type of y into int64"
   ]
  },
  {
   "cell_type": "code",
   "execution_count": 115,
   "id": "a9971088",
   "metadata": {},
   "outputs": [
    {
     "data": {
      "text/plain": [
       "(50882, 13)"
      ]
     },
     "execution_count": 115,
     "metadata": {},
     "output_type": "execute_result"
    }
   ],
   "source": [
    "x.shape"
   ]
  },
  {
   "cell_type": "code",
   "execution_count": 116,
   "id": "63e2e71f",
   "metadata": {},
   "outputs": [
    {
     "data": {
      "text/plain": [
       "0    38673\n",
       "1    12209\n",
       "Name: Response, dtype: int64"
      ]
     },
     "execution_count": 116,
     "metadata": {},
     "output_type": "execute_result"
    }
   ],
   "source": [
    "y.value_counts()"
   ]
  },
  {
   "cell_type": "markdown",
   "id": "2057e84d",
   "metadata": {},
   "source": [
    "The data is completly imbalanced, so we have to use sampling techniques inorder to get the good predictions."
   ]
  },
  {
   "cell_type": "code",
   "execution_count": 117,
   "id": "b2aa5e99",
   "metadata": {},
   "outputs": [],
   "source": [
    "from imblearn.over_sampling import SMOTEN\n",
    "#we are installing the SMOTEN as the data is binary"
   ]
  },
  {
   "cell_type": "code",
   "execution_count": 118,
   "id": "681b1f15",
   "metadata": {},
   "outputs": [],
   "source": [
    "smote_os=SMOTEN(random_state=41)\n",
    "x_smote, y_smote=smote_os.fit_resample(x,y)"
   ]
  },
  {
   "cell_type": "code",
   "execution_count": 120,
   "id": "1a15c673",
   "metadata": {},
   "outputs": [
    {
     "data": {
      "text/plain": [
       "0    38673\n",
       "1    38673\n",
       "Name: Response, dtype: int64"
      ]
     },
     "execution_count": 120,
     "metadata": {},
     "output_type": "execute_result"
    }
   ],
   "source": [
    "y_smote.value_counts(dropna=False)"
   ]
  },
  {
   "cell_type": "code",
   "execution_count": 121,
   "id": "89f39f30",
   "metadata": {},
   "outputs": [
    {
     "data": {
      "text/plain": [
       "(77346, 13)"
      ]
     },
     "execution_count": 121,
     "metadata": {},
     "output_type": "execute_result"
    }
   ],
   "source": [
    "x_smote.shape"
   ]
  },
  {
   "cell_type": "code",
   "execution_count": 165,
   "id": "2527a889",
   "metadata": {},
   "outputs": [],
   "source": [
    "from sklearn.linear_model import LogisticRegression\n",
    "from sklearn.model_selection import cross_val_score"
   ]
  },
  {
   "cell_type": "code",
   "execution_count": 123,
   "id": "2be6f014",
   "metadata": {},
   "outputs": [],
   "source": [
    "logit=LogisticRegression()"
   ]
  },
  {
   "cell_type": "code",
   "execution_count": 124,
   "id": "a5870565",
   "metadata": {},
   "outputs": [],
   "source": [
    "logit_model=logit.fit(x_smote,y_smote)"
   ]
  },
  {
   "cell_type": "code",
   "execution_count": 125,
   "id": "8f9996cc",
   "metadata": {},
   "outputs": [
    {
     "data": {
      "text/plain": [
       "0.7146846637188736"
      ]
     },
     "execution_count": 125,
     "metadata": {},
     "output_type": "execute_result"
    }
   ],
   "source": [
    "logit_model.score(x_smote,y_smote)"
   ]
  },
  {
   "cell_type": "code",
   "execution_count": 176,
   "id": "5687aefa",
   "metadata": {},
   "outputs": [
    {
     "data": {
      "text/plain": [
       "array([0.32656755, 0.39918547, 0.50003232, 0.91951645, 0.49996768])"
      ]
     },
     "execution_count": 176,
     "metadata": {},
     "output_type": "execute_result"
    }
   ],
   "source": [
    "cross_val_score(logit_model,x_smote,y_smote)"
   ]
  },
  {
   "cell_type": "code",
   "execution_count": 177,
   "id": "8d981f7a",
   "metadata": {},
   "outputs": [
    {
     "data": {
      "text/plain": [
       "0.529053894"
      ]
     },
     "execution_count": 177,
     "metadata": {},
     "output_type": "execute_result"
    }
   ],
   "source": [
    "np.mean([0.32656755, 0.39918547, 0.50003232, 0.91951645, 0.49996768])"
   ]
  },
  {
   "cell_type": "code",
   "execution_count": 127,
   "id": "6b6bb9a4",
   "metadata": {},
   "outputs": [],
   "source": [
    "logit_predict=logit_model.predict(x_smote)"
   ]
  },
  {
   "cell_type": "code",
   "execution_count": 128,
   "id": "cd6c6da2",
   "metadata": {},
   "outputs": [],
   "source": [
    "from sklearn.metrics import classification_report"
   ]
  },
  {
   "cell_type": "code",
   "execution_count": 129,
   "id": "7a1b0e87",
   "metadata": {},
   "outputs": [
    {
     "data": {
      "text/plain": [
       "'              precision    recall  f1-score   support\\n\\n           0       0.73      0.69      0.71     38673\\n           1       0.71      0.74      0.72     38673\\n\\n    accuracy                           0.71     77346\\n   macro avg       0.72      0.71      0.71     77346\\nweighted avg       0.72      0.71      0.71     77346\\n'"
      ]
     },
     "execution_count": 129,
     "metadata": {},
     "output_type": "execute_result"
    }
   ],
   "source": [
    "classification_report(y_smote,logit_predict)"
   ]
  },
  {
   "cell_type": "code",
   "execution_count": 130,
   "id": "0bbc7bbd",
   "metadata": {},
   "outputs": [],
   "source": [
    "from sklearn.metrics import ConfusionMatrixDisplay\n",
    "from sklearn.metrics import RocCurveDisplay"
   ]
  },
  {
   "cell_type": "code",
   "execution_count": 131,
   "id": "3d0a94d2",
   "metadata": {},
   "outputs": [
    {
     "data": {
      "text/plain": [
       "<sklearn.metrics._plot.confusion_matrix.ConfusionMatrixDisplay at 0x2484b27aac0>"
      ]
     },
     "execution_count": 131,
     "metadata": {},
     "output_type": "execute_result"
    },
    {
     "data": {
      "image/png": "[encoded data removed]",
      "text/plain": [
       "<Figure size 640x480 with 2 Axes>"
      ]
     },
     "metadata": {},
     "output_type": "display_data"
    }
   ],
   "source": [
    "ConfusionMatrixDisplay.from_predictions(y_smote,logit_predict)"
   ]
  },
  {
   "cell_type": "code",
   "execution_count": 134,
   "id": "4fbac804",
   "metadata": {},
   "outputs": [
    {
     "data": {
      "text/plain": [
       "<sklearn.metrics._plot.roc_curve.RocCurveDisplay at 0x2484a148940>"
      ]
     },
     "execution_count": 134,
     "metadata": {},
     "output_type": "execute_result"
    },
    {
     "data": {
      "image/png": "[encoded data removed]",
      "text/plain": [
       "<Figure size 640x480 with 1 Axes>"
      ]
     },
     "metadata": {},
     "output_type": "display_data"
    }
   ],
   "source": [
    "RocCurveDisplay.from_estimator(logit_model,x_smote,y_smote)"
   ]
  },
  {
   "cell_type": "code",
   "execution_count": 135,
   "id": "dbeb7f54",
   "metadata": {},
   "outputs": [],
   "source": [
    "from sklearn.tree import DecisionTreeClassifier"
   ]
  },
  {
   "cell_type": "code",
   "execution_count": 139,
   "id": "77e7d8af",
   "metadata": {},
   "outputs": [],
   "source": [
    "tree=DecisionTreeClassifier(max_depth=14)"
   ]
  },
  {
   "cell_type": "code",
   "execution_count": 140,
   "id": "d6696f17",
   "metadata": {},
   "outputs": [],
   "source": [
    "tree_model=tree.fit(x_smote,y_smote)"
   ]
  },
  {
   "cell_type": "code",
   "execution_count": 141,
   "id": "98c7242f",
   "metadata": {},
   "outputs": [
    {
     "data": {
      "text/plain": [
       "0.8650221084477543"
      ]
     },
     "execution_count": 141,
     "metadata": {},
     "output_type": "execute_result"
    }
   ],
   "source": [
    "tree_model.score(x_smote,y_smote)"
   ]
  },
  {
   "cell_type": "code",
   "execution_count": 173,
   "id": "a7f7e38d",
   "metadata": {},
   "outputs": [
    {
     "data": {
      "text/plain": [
       "array([0.18054299, 0.20725322, 0.48031547, 0.49369707, 0.46648135])"
      ]
     },
     "execution_count": 173,
     "metadata": {},
     "output_type": "execute_result"
    }
   ],
   "source": [
    "cross_val_score(tree_model,x_smote,y_smote)"
   ]
  },
  {
   "cell_type": "code",
   "execution_count": 174,
   "id": "1d33ff38",
   "metadata": {},
   "outputs": [
    {
     "data": {
      "text/plain": [
       "0.36565802000000003"
      ]
     },
     "execution_count": 174,
     "metadata": {},
     "output_type": "execute_result"
    }
   ],
   "source": [
    "np.mean([0.18054299, 0.20725322, 0.48031547, 0.49369707, 0.46648135])"
   ]
  },
  {
   "cell_type": "code",
   "execution_count": 142,
   "id": "f509a92f",
   "metadata": {},
   "outputs": [],
   "source": [
    "tree_predict=tree_model.predict(x_smote)"
   ]
  },
  {
   "cell_type": "code",
   "execution_count": 143,
   "id": "0783dac0",
   "metadata": {},
   "outputs": [
    {
     "data": {
      "text/html": [
       "<div>\n",
       "<style scoped>\n",
       "    .dataframe tbody tr th:only-of-type {\n",
       "        vertical-align: middle;\n",
       "    }\n",
       "\n",
       "    .dataframe tbody tr th {\n",
       "        vertical-align: top;\n",
       "    }\n",
       "\n",
       "    .dataframe thead th {\n",
       "        text-align: right;\n",
       "    }\n",
       "</style>\n",
       "<table border=\"1\" class=\"dataframe\">\n",
       "  <thead>\n",
       "    <tr style=\"text-align: right;\">\n",
       "      <th>col_0</th>\n",
       "      <th>0</th>\n",
       "      <th>1</th>\n",
       "    </tr>\n",
       "    <tr>\n",
       "      <th>Response</th>\n",
       "      <th></th>\n",
       "      <th></th>\n",
       "    </tr>\n",
       "  </thead>\n",
       "  <tbody>\n",
       "    <tr>\n",
       "      <th>0</th>\n",
       "      <td>36587</td>\n",
       "      <td>2086</td>\n",
       "    </tr>\n",
       "    <tr>\n",
       "      <th>1</th>\n",
       "      <td>8354</td>\n",
       "      <td>30319</td>\n",
       "    </tr>\n",
       "  </tbody>\n",
       "</table>\n",
       "</div>"
      ],
      "text/plain": [
       "col_0         0      1\n",
       "Response              \n",
       "0         36587   2086\n",
       "1          8354  30319"
      ]
     },
     "execution_count": 143,
     "metadata": {},
     "output_type": "execute_result"
    }
   ],
   "source": [
    "pd.crosstab(y_smote,tree_predict)"
   ]
  },
  {
   "cell_type": "code",
   "execution_count": 145,
   "id": "c50eff27",
   "metadata": {},
   "outputs": [
    {
     "data": {
      "text/plain": [
       "<sklearn.metrics._plot.confusion_matrix.ConfusionMatrixDisplay at 0x2484ad04c70>"
      ]
     },
     "execution_count": 145,
     "metadata": {},
     "output_type": "execute_result"
    },
    {
     "data": {
      "image/png": "[encoded data removed]",
      "text/plain": [
       "<Figure size 640x480 with 2 Axes>"
      ]
     },
     "metadata": {},
     "output_type": "display_data"
    }
   ],
   "source": [
    "ConfusionMatrixDisplay.from_predictions(y_smote,tree_predict)"
   ]
  },
  {
   "cell_type": "code",
   "execution_count": 187,
   "id": "65872b39",
   "metadata": {},
   "outputs": [
    {
     "data": {
      "text/plain": [
       "<sklearn.metrics._plot.roc_curve.RocCurveDisplay at 0x248494d9430>"
      ]
     },
     "execution_count": 187,
     "metadata": {},
     "output_type": "execute_result"
    },
    {
     "data": {
      "image/png": "[encoded data removed]",
      "text/plain": [
       "<Figure size 640x480 with 1 Axes>"
      ]
     },
     "metadata": {},
     "output_type": "display_data"
    }
   ],
   "source": [
    "RocCurveDisplay.from_estimator(tree_model,x_smote,y_smote)"
   ]
  },
  {
   "cell_type": "code",
   "execution_count": 146,
   "id": "86d352a8",
   "metadata": {},
   "outputs": [],
   "source": [
    "from sklearn.ensemble import RandomForestClassifier"
   ]
  },
  {
   "cell_type": "code",
   "execution_count": 147,
   "id": "7e746094",
   "metadata": {},
   "outputs": [],
   "source": [
    "rf=RandomForestClassifier(n_estimators=2)"
   ]
  },
  {
   "cell_type": "code",
   "execution_count": 148,
   "id": "3a4732cf",
   "metadata": {},
   "outputs": [],
   "source": [
    "rf_model=rf.fit(x_smote,y_smote)"
   ]
  },
  {
   "cell_type": "code",
   "execution_count": 149,
   "id": "2389bbba",
   "metadata": {},
   "outputs": [
    {
     "data": {
      "text/plain": [
       "0.9140227031779278"
      ]
     },
     "execution_count": 149,
     "metadata": {},
     "output_type": "execute_result"
    }
   ],
   "source": [
    "rf_model.score(x_smote,y_smote)"
   ]
  },
  {
   "cell_type": "code",
   "execution_count": 171,
   "id": "5814f22d",
   "metadata": {},
   "outputs": [
    {
     "data": {
      "text/plain": [
       "array([0.28371041, 0.31805547, 0.56500097, 0.68718081, 0.52427436])"
      ]
     },
     "execution_count": 171,
     "metadata": {},
     "output_type": "execute_result"
    }
   ],
   "source": [
    "cross_val_score(rf_model,x_smote,y_smote)"
   ]
  },
  {
   "cell_type": "code",
   "execution_count": 172,
   "id": "e292f97f",
   "metadata": {},
   "outputs": [
    {
     "data": {
      "text/plain": [
       "0.4756444040000001"
      ]
     },
     "execution_count": 172,
     "metadata": {},
     "output_type": "execute_result"
    }
   ],
   "source": [
    "np.mean([0.28371041, 0.31805547, 0.56500097, 0.68718081, 0.52427436])"
   ]
  },
  {
   "cell_type": "code",
   "execution_count": 150,
   "id": "b2003fc3",
   "metadata": {},
   "outputs": [],
   "source": [
    "rf_predict=rf_model.predict(x_smote)"
   ]
  },
  {
   "cell_type": "code",
   "execution_count": 151,
   "id": "9d9ecf89",
   "metadata": {},
   "outputs": [
    {
     "data": {
      "text/html": [
       "<div>\n",
       "<style scoped>\n",
       "    .dataframe tbody tr th:only-of-type {\n",
       "        vertical-align: middle;\n",
       "    }\n",
       "\n",
       "    .dataframe tbody tr th {\n",
       "        vertical-align: top;\n",
       "    }\n",
       "\n",
       "    .dataframe thead th {\n",
       "        text-align: right;\n",
       "    }\n",
       "</style>\n",
       "<table border=\"1\" class=\"dataframe\">\n",
       "  <thead>\n",
       "    <tr style=\"text-align: right;\">\n",
       "      <th>col_0</th>\n",
       "      <th>0</th>\n",
       "      <th>1</th>\n",
       "    </tr>\n",
       "    <tr>\n",
       "      <th>Response</th>\n",
       "      <th></th>\n",
       "      <th></th>\n",
       "    </tr>\n",
       "  </thead>\n",
       "  <tbody>\n",
       "    <tr>\n",
       "      <th>0</th>\n",
       "      <td>38127</td>\n",
       "      <td>546</td>\n",
       "    </tr>\n",
       "    <tr>\n",
       "      <th>1</th>\n",
       "      <td>6104</td>\n",
       "      <td>32569</td>\n",
       "    </tr>\n",
       "  </tbody>\n",
       "</table>\n",
       "</div>"
      ],
      "text/plain": [
       "col_0         0      1\n",
       "Response              \n",
       "0         38127    546\n",
       "1          6104  32569"
      ]
     },
     "execution_count": 151,
     "metadata": {},
     "output_type": "execute_result"
    }
   ],
   "source": [
    "pd.crosstab(y_smote,rf_predict)"
   ]
  },
  {
   "cell_type": "code",
   "execution_count": 152,
   "id": "d3fac8e0",
   "metadata": {},
   "outputs": [
    {
     "data": {
      "text/plain": [
       "<sklearn.metrics._plot.confusion_matrix.ConfusionMatrixDisplay at 0x2484dc71e20>"
      ]
     },
     "execution_count": 152,
     "metadata": {},
     "output_type": "execute_result"
    },
    {
     "data": {
      "image/png": "[encoded data removed]",
      "text/plain": [
       "<Figure size 640x480 with 2 Axes>"
      ]
     },
     "metadata": {},
     "output_type": "display_data"
    }
   ],
   "source": [
    "ConfusionMatrixDisplay.from_predictions(y_smote,rf_predict)"
   ]
  },
  {
   "cell_type": "code",
   "execution_count": 190,
   "id": "be70a8ec",
   "metadata": {},
   "outputs": [
    {
     "data": {
      "text/plain": [
       "<sklearn.metrics._plot.roc_curve.RocCurveDisplay at 0x24851e66e80>"
      ]
     },
     "execution_count": 190,
     "metadata": {},
     "output_type": "execute_result"
    },
    {
     "data": {
      "image/png": "[encoded data removed]",
      "text/plain": [
       "<Figure size 640x480 with 1 Axes>"
      ]
     },
     "metadata": {},
     "output_type": "display_data"
    }
   ],
   "source": [
    "RocCurveDisplay.from_estimator(rf_model,x_smote,y_smote)"
   ]
  },
  {
   "cell_type": "code",
   "execution_count": 153,
   "id": "3b68d270",
   "metadata": {},
   "outputs": [],
   "source": [
    "from sklearn.neighbors import KNeighborsClassifier\n",
    "from sklearn.model_selection import GridSearchCV"
   ]
  },
  {
   "cell_type": "code",
   "execution_count": 154,
   "id": "604d5769",
   "metadata": {},
   "outputs": [],
   "source": [
    "k_range=list(range(1,25))\n",
    "knn=KNeighborsClassifier()\n",
    "param_grid=dict(n_neighbors=k_range)"
   ]
  },
  {
   "cell_type": "code",
   "execution_count": 155,
   "id": "1bf1bf15",
   "metadata": {},
   "outputs": [],
   "source": [
    "grid=GridSearchCV(knn,param_grid,cv=5,scoring=\"accuracy\",verbose=1)"
   ]
  },
  {
   "cell_type": "code",
   "execution_count": 156,
   "id": "1322859d",
   "metadata": {},
   "outputs": [
    {
     "name": "stdout",
     "output_type": "stream",
     "text": [
      "Fitting 5 folds for each of 24 candidates, totalling 120 fits\n"
     ]
    }
   ],
   "source": [
    "grid_model=grid.fit(x_smote,y_smote)"
   ]
  },
  {
   "cell_type": "code",
   "execution_count": 157,
   "id": "acdabd10",
   "metadata": {},
   "outputs": [
    {
     "data": {
      "text/html": [
       "<style>#sk-container-id-1 {color: black;background-color: white;}#sk-container-id-1 pre{padding: 0;}#sk-container-id-1 div.sk-toggleable {background-color: white;}#sk-container-id-1 label.sk-toggleable__label {cursor: pointer;display: block;width: 100%;margin-bottom: 0;padding: 0.3em;box-sizing: border-box;text-align: center;}#sk-container-id-1 label.sk-toggleable__label-arrow:before {content: \"▸\";float: left;margin-right: 0.25em;color: #696969;}#sk-container-id-1 label.sk-toggleable__label-arrow:hover:before {color: black;}#sk-container-id-1 div.sk-estimator:hover label.sk-toggleable__label-arrow:before {color: black;}#sk-container-id-1 div.sk-toggleable__content {max-height: 0;max-width: 0;overflow: hidden;text-align: left;background-color: #f0f8ff;}#sk-container-id-1 div.sk-toggleable__content pre {margin: 0.2em;color: black;border-radius: 0.25em;background-color: #f0f8ff;}#sk-container-id-1 input.sk-toggleable__control:checked~div.sk-toggleable__content {max-height: 200px;max-width: 100%;overflow: auto;}#sk-container-id-1 input.sk-toggleable__control:checked~label.sk-toggleable__label-arrow:before {content: \"▾\";}#sk-container-id-1 div.sk-estimator input.sk-toggleable__control:checked~label.sk-toggleable__label {background-color: #d4ebff;}#sk-container-id-1 div.sk-label input.sk-toggleable__control:checked~label.sk-toggleable__label {background-color: #d4ebff;}#sk-container-id-1 input.sk-hidden--visually {border: 0;clip: rect(1px 1px 1px 1px);clip: rect(1px, 1px, 1px, 1px);height: 1px;margin: -1px;overflow: hidden;padding: 0;position: absolute;width: 1px;}#sk-container-id-1 div.sk-estimator {font-family: monospace;background-color: #f0f8ff;border: 1px dotted black;border-radius: 0.25em;box-sizing: border-box;margin-bottom: 0.5em;}#sk-container-id-1 div.sk-estimator:hover {background-color: #d4ebff;}#sk-container-id-1 div.sk-parallel-item::after {content: \"\";width: 100%;border-bottom: 1px solid gray;flex-grow: 1;}#sk-container-id-1 div.sk-label:hover label.sk-toggleable__label {background-color: #d4ebff;}#sk-container-id-1 div.sk-serial::before {content: \"\";position: absolute;border-left: 1px solid gray;box-sizing: border-box;top: 0;bottom: 0;left: 50%;z-index: 0;}#sk-container-id-1 div.sk-serial {display: flex;flex-direction: column;align-items: center;background-color: white;padding-right: 0.2em;padding-left: 0.2em;position: relative;}#sk-container-id-1 div.sk-item {position: relative;z-index: 1;}#sk-container-id-1 div.sk-parallel {display: flex;align-items: stretch;justify-content: center;background-color: white;position: relative;}#sk-container-id-1 div.sk-item::before, #sk-container-id-1 div.sk-parallel-item::before {content: \"\";position: absolute;border-left: 1px solid gray;box-sizing: border-box;top: 0;bottom: 0;left: 50%;z-index: -1;}#sk-container-id-1 div.sk-parallel-item {display: flex;flex-direction: column;z-index: 1;position: relative;background-color: white;}#sk-container-id-1 div.sk-parallel-item:first-child::after {align-self: flex-end;width: 50%;}#sk-container-id-1 div.sk-parallel-item:last-child::after {align-self: flex-start;width: 50%;}#sk-container-id-1 div.sk-parallel-item:only-child::after {width: 0;}#sk-container-id-1 div.sk-dashed-wrapped {border: 1px dashed gray;margin: 0 0.4em 0.5em 0.4em;box-sizing: border-box;padding-bottom: 0.4em;background-color: white;}#sk-container-id-1 div.sk-label label {font-family: monospace;font-weight: bold;display: inline-block;line-height: 1.2em;}#sk-container-id-1 div.sk-label-container {text-align: center;}#sk-container-id-1 div.sk-container {/* jupyter's `normalize.less` sets `[hidden] { display: none; }` but bootstrap.min.css set `[hidden] { display: none !important; }` so we also need the `!important` here to be able to override the default hidden behavior on the sphinx rendered scikit-learn.org. See: https://github.com/scikit-learn/scikit-learn/issues/21755 */display: inline-block !important;position: relative;}#sk-container-id-1 div.sk-text-repr-fallback {display: none;}</style><div id=\"sk-container-id-1\" class=\"sk-top-container\"><div class=\"sk-text-repr-fallback\"><pre>KNeighborsClassifier(n_neighbors=1)</pre><b>In a Jupyter environment, please rerun this cell to show the HTML representation or trust the notebook. <br />On GitHub, the HTML representation is unable to render, please try loading this page with nbviewer.org.</b></div><div class=\"sk-container\" hidden><div class=\"sk-item\"><div class=\"sk-estimator sk-toggleable\"><input class=\"sk-toggleable__control sk-hidden--visually\" id=\"sk-estimator-id-1\" type=\"checkbox\" checked><label for=\"sk-estimator-id-1\" class=\"sk-toggleable__label sk-toggleable__label-arrow\">KNeighborsClassifier</label><div class=\"sk-toggleable__content\"><pre>KNeighborsClassifier(n_neighbors=1)</pre></div></div></div></div></div>"
      ],
      "text/plain": [
       "KNeighborsClassifier(n_neighbors=1)"
      ]
     },
     "execution_count": 157,
     "metadata": {},
     "output_type": "execute_result"
    }
   ],
   "source": [
    "grid_model.best_estimator_"
   ]
  },
  {
   "cell_type": "code",
   "execution_count": 158,
   "id": "bd59f26d",
   "metadata": {},
   "outputs": [
    {
     "data": {
      "text/plain": [
       "0.37872870164291716"
      ]
     },
     "execution_count": 158,
     "metadata": {},
     "output_type": "execute_result"
    }
   ],
   "source": [
    "grid_model.best_score_"
   ]
  },
  {
   "cell_type": "code",
   "execution_count": 167,
   "id": "b0f228ed",
   "metadata": {},
   "outputs": [
    {
     "name": "stdout",
     "output_type": "stream",
     "text": [
      "Fitting 5 folds for each of 24 candidates, totalling 120 fits\n",
      "Fitting 5 folds for each of 24 candidates, totalling 120 fits\n",
      "Fitting 5 folds for each of 24 candidates, totalling 120 fits\n",
      "Fitting 5 folds for each of 24 candidates, totalling 120 fits\n",
      "Fitting 5 folds for each of 24 candidates, totalling 120 fits\n"
     ]
    },
    {
     "data": {
      "text/plain": [
       "array([0.22857143, 0.19671601, 0.48568104, 0.48574568, 0.48471136])"
      ]
     },
     "execution_count": 167,
     "metadata": {},
     "output_type": "execute_result"
    }
   ],
   "source": [
    "cross_val_score(grid_model,x_smote,y_smote)"
   ]
  },
  {
   "cell_type": "code",
   "execution_count": 168,
   "id": "a3f76176",
   "metadata": {},
   "outputs": [
    {
     "data": {
      "text/plain": [
       "0.376285104"
      ]
     },
     "execution_count": 168,
     "metadata": {},
     "output_type": "execute_result"
    }
   ],
   "source": [
    "np.mean([0.22857143, 0.19671601, 0.48568104, 0.48574568, 0.48471136])"
   ]
  },
  {
   "cell_type": "code",
   "execution_count": 159,
   "id": "6e55b0c4",
   "metadata": {},
   "outputs": [
    {
     "data": {
      "text/plain": [
       "{'n_neighbors': 1}"
      ]
     },
     "execution_count": 159,
     "metadata": {},
     "output_type": "execute_result"
    }
   ],
   "source": [
    "grid_model.best_params_"
   ]
  },
  {
   "cell_type": "code",
   "execution_count": 160,
   "id": "507cd6a4",
   "metadata": {},
   "outputs": [
    {
     "data": {
      "text/plain": [
       "{'mean_fit_time': array([0.18414049, 0.19071479, 0.1843636 , 0.16296449, 0.17192039,\n",
       "        0.18151407, 0.16247725, 0.20002995, 0.20624251, 0.16249733,\n",
       "        0.159342  , 0.17508078, 0.17184544, 0.18755698, 0.19077377,\n",
       "        0.2281527 , 0.20320005, 0.17825027, 0.20309391, 0.16565123,\n",
       "        0.20628371, 0.19703493, 0.18445702, 0.19695172]),\n",
       " 'std_fit_time': array([0.05298856, 0.03184903, 0.02687377, 0.03032973, 0.02607285,\n",
       "        0.0322004 , 0.02336036, 0.03623334, 0.02075896, 0.01592609,\n",
       "        0.01820859, 0.02696   , 0.02963794, 0.02425697, 0.03619716,\n",
       "        0.0306953 , 0.01721471, 0.0186965 , 0.02798634, 0.02127146,\n",
       "        0.01816416, 0.01589938, 0.01825367, 0.01256831]),\n",
       " 'mean_score_time': array([0.46799445, 0.45951324, 0.45642228, 0.44383259, 0.54074388,\n",
       "        0.5408042 , 0.47386909, 0.52220545, 0.51268201, 0.48454366,\n",
       "        0.51220732, 0.47504911, 0.48464241, 0.50647106, 0.60010371,\n",
       "        0.62520475, 0.54385686, 0.5437984 , 0.55160093, 0.51887412,\n",
       "        0.52520933, 0.51580992, 0.55847282, 0.5688643 ]),\n",
       " 'std_score_time': array([0.02578463, 0.04049391, 0.03499552, 0.0212036 , 0.07688339,\n",
       "        0.09164813, 0.07015165, 0.04932014, 0.02314407, 0.07084987,\n",
       "        0.03972049, 0.03506829, 0.03272765, 0.04897297, 0.04502994,\n",
       "        0.04522956, 0.03039639, 0.02288333, 0.04809428, 0.03888034,\n",
       "        0.02134523, 0.03283397, 0.02613258, 0.02124167]),\n",
       " 'param_n_neighbors': masked_array(data=[1, 2, 3, 4, 5, 6, 7, 8, 9, 10, 11, 12, 13, 14, 15, 16,\n",
       "                    17, 18, 19, 20, 21, 22, 23, 24],\n",
       "              mask=[False, False, False, False, False, False, False, False,\n",
       "                    False, False, False, False, False, False, False, False,\n",
       "                    False, False, False, False, False, False, False, False],\n",
       "        fill_value='?',\n",
       "             dtype=object),\n",
       " 'params': [{'n_neighbors': 1},\n",
       "  {'n_neighbors': 2},\n",
       "  {'n_neighbors': 3},\n",
       "  {'n_neighbors': 4},\n",
       "  {'n_neighbors': 5},\n",
       "  {'n_neighbors': 6},\n",
       "  {'n_neighbors': 7},\n",
       "  {'n_neighbors': 8},\n",
       "  {'n_neighbors': 9},\n",
       "  {'n_neighbors': 10},\n",
       "  {'n_neighbors': 11},\n",
       "  {'n_neighbors': 12},\n",
       "  {'n_neighbors': 13},\n",
       "  {'n_neighbors': 14},\n",
       "  {'n_neighbors': 15},\n",
       "  {'n_neighbors': 16},\n",
       "  {'n_neighbors': 17},\n",
       "  {'n_neighbors': 18},\n",
       "  {'n_neighbors': 19},\n",
       "  {'n_neighbors': 20},\n",
       "  {'n_neighbors': 21},\n",
       "  {'n_neighbors': 22},\n",
       "  {'n_neighbors': 23},\n",
       "  {'n_neighbors': 24}],\n",
       " 'split0_test_score': array([0.22857143, 0.21751778, 0.23943116, 0.22133161, 0.23522948,\n",
       "        0.22159017, 0.23393665, 0.22023271, 0.23199741, 0.21913381,\n",
       "        0.22928248, 0.21971558, 0.22656755, 0.21635423, 0.22301228,\n",
       "        0.21622495, 0.22165482, 0.21396251, 0.21919845, 0.21338074,\n",
       "        0.21842275, 0.21215255, 0.21667744, 0.20995475]),\n",
       " 'split1_test_score': array([0.208934  , 0.20130584, 0.20583102, 0.19833215, 0.20292197,\n",
       "        0.19671601, 0.20091796, 0.19458271, 0.19813821, 0.19490594,\n",
       "        0.1982675 , 0.1934191 , 0.19736247, 0.19348374, 0.19775034,\n",
       "        0.19529381, 0.19807357, 0.19509988, 0.19787963, 0.19568169,\n",
       "        0.19690995, 0.19522917, 0.19671601, 0.19490594]),\n",
       " 'split2_test_score': array([0.48568104, 0.44928567, 0.46867929, 0.44010602, 0.45710776,\n",
       "        0.43086172, 0.44999677, 0.42691835, 0.44495442, 0.42465576,\n",
       "        0.44159286, 0.42433254, 0.43887776, 0.42614261, 0.43997673,\n",
       "        0.42653048, 0.43829595, 0.42581938, 0.43687375, 0.42543151,\n",
       "        0.43415864, 0.42258711, 0.43474045, 0.42452647]),\n",
       " 'split3_test_score': array([0.48574568, 0.44488978, 0.46835607, 0.43402935, 0.45154826,\n",
       "        0.42206995, 0.44223932, 0.4184498 , 0.4353869 , 0.41515289,\n",
       "        0.43318896, 0.4157347 , 0.43247786, 0.41554076, 0.4319607 ,\n",
       "        0.41515289, 0.42743552, 0.41457108, 0.42730623, 0.41366604,\n",
       "        0.42472041, 0.41198526, 0.42032452, 0.40985196]),\n",
       " 'split4_test_score': array([0.48471136, 0.44547159, 0.4658349 , 0.4339647 , 0.4537462 ,\n",
       "        0.42827591, 0.44495442, 0.42103562, 0.43874846, 0.41567005,\n",
       "        0.43357683, 0.41444179, 0.43040921, 0.41211455, 0.42530222,\n",
       "        0.41140345, 0.42407395, 0.40855905, 0.42103562, 0.40545607,\n",
       "        0.41586399, 0.40558536, 0.41567005, 0.40396923]),\n",
       " 'mean_test_score': array([0.3787287 , 0.35169413, 0.36962649, 0.34555277, 0.36011073,\n",
       "        0.33990275, 0.35440903, 0.33624384, 0.34984508, 0.33390369,\n",
       "        0.34718173, 0.33352874, 0.34513897, 0.33272718, 0.34360045,\n",
       "        0.33292112, 0.34190676, 0.33160238, 0.34045873, 0.33072321,\n",
       "        0.33801515, 0.32950789, 0.33682569, 0.32864167]),\n",
       " 'std_test_score': array([0.13076789, 0.1162959 , 0.12049467, 0.11107646, 0.11562048,\n",
       "        0.10708418, 0.11235902, 0.10554221, 0.11060746, 0.10393807,\n",
       "        0.10940795, 0.10405212, 0.1091633 , 0.10470748, 0.10916488,\n",
       "        0.10415712, 0.10817209, 0.10407214, 0.10804058, 0.10338244,\n",
       "        0.1068034 , 0.10301174, 0.1066228 , 0.10337802]),\n",
       " 'rank_test_score': array([ 1,  5,  2,  8,  3, 13,  4, 16,  6, 17,  7, 18,  9, 20, 10, 19, 11,\n",
       "        21, 12, 22, 14, 23, 15, 24])}"
      ]
     },
     "execution_count": 160,
     "metadata": {},
     "output_type": "execute_result"
    }
   ],
   "source": [
    "grid_model.cv_results_"
   ]
  },
  {
   "cell_type": "code",
   "execution_count": 180,
   "id": "0a1ab5bd",
   "metadata": {},
   "outputs": [],
   "source": [
    "from sklearn.ensemble import GradientBoostingClassifier"
   ]
  },
  {
   "cell_type": "code",
   "execution_count": 181,
   "id": "6a706866",
   "metadata": {},
   "outputs": [],
   "source": [
    "gb=GradientBoostingClassifier(n_estimators=500)"
   ]
  },
  {
   "cell_type": "code",
   "execution_count": 182,
   "id": "d2d63473",
   "metadata": {},
   "outputs": [],
   "source": [
    "gb_model=gb.fit(x_smote,y_smote)"
   ]
  },
  {
   "cell_type": "code",
   "execution_count": 183,
   "id": "ba57b106",
   "metadata": {},
   "outputs": [
    {
     "data": {
      "text/plain": [
       "0.8114576060817624"
      ]
     },
     "execution_count": 183,
     "metadata": {},
     "output_type": "execute_result"
    }
   ],
   "source": [
    "gb_model.score(x_smote,y_smote)"
   ]
  },
  {
   "cell_type": "code",
   "execution_count": 184,
   "id": "65065d6a",
   "metadata": {},
   "outputs": [
    {
     "data": {
      "text/plain": [
       "array([0.1752424 , 0.20777038, 0.48930118, 0.48367703, 0.47792359])"
      ]
     },
     "execution_count": 184,
     "metadata": {},
     "output_type": "execute_result"
    }
   ],
   "source": [
    "cross_val_score(gb_model,x_smote,y_smote)"
   ]
  },
  {
   "cell_type": "code",
   "execution_count": 186,
   "id": "46b88fe0",
   "metadata": {},
   "outputs": [
    {
     "data": {
      "text/plain": [
       "0.366782916"
      ]
     },
     "execution_count": 186,
     "metadata": {},
     "output_type": "execute_result"
    }
   ],
   "source": [
    "np.mean([0.1752424 , 0.20777038, 0.48930118, 0.48367703, 0.47792359])"
   ]
  },
  {
   "cell_type": "code",
   "execution_count": 192,
   "id": "45871d69",
   "metadata": {},
   "outputs": [],
   "source": [
    "gb_predict=gb_model.predict(x_smote)"
   ]
  },
  {
   "cell_type": "code",
   "execution_count": 193,
   "id": "7dc87819",
   "metadata": {},
   "outputs": [
    {
     "data": {
      "text/html": [
       "<div>\n",
       "<style scoped>\n",
       "    .dataframe tbody tr th:only-of-type {\n",
       "        vertical-align: middle;\n",
       "    }\n",
       "\n",
       "    .dataframe tbody tr th {\n",
       "        vertical-align: top;\n",
       "    }\n",
       "\n",
       "    .dataframe thead th {\n",
       "        text-align: right;\n",
       "    }\n",
       "</style>\n",
       "<table border=\"1\" class=\"dataframe\">\n",
       "  <thead>\n",
       "    <tr style=\"text-align: right;\">\n",
       "      <th>col_0</th>\n",
       "      <th>0</th>\n",
       "      <th>1</th>\n",
       "    </tr>\n",
       "    <tr>\n",
       "      <th>Response</th>\n",
       "      <th></th>\n",
       "      <th></th>\n",
       "    </tr>\n",
       "  </thead>\n",
       "  <tbody>\n",
       "    <tr>\n",
       "      <th>0</th>\n",
       "      <td>35076</td>\n",
       "      <td>3597</td>\n",
       "    </tr>\n",
       "    <tr>\n",
       "      <th>1</th>\n",
       "      <td>10986</td>\n",
       "      <td>27687</td>\n",
       "    </tr>\n",
       "  </tbody>\n",
       "</table>\n",
       "</div>"
      ],
      "text/plain": [
       "col_0         0      1\n",
       "Response              \n",
       "0         35076   3597\n",
       "1         10986  27687"
      ]
     },
     "execution_count": 193,
     "metadata": {},
     "output_type": "execute_result"
    }
   ],
   "source": [
    "pd.crosstab(y_smote,gb_predict)"
   ]
  },
  {
   "cell_type": "code",
   "execution_count": 195,
   "id": "2225e014",
   "metadata": {},
   "outputs": [
    {
     "data": {
      "text/plain": [
       "<sklearn.metrics._plot.confusion_matrix.ConfusionMatrixDisplay at 0x2484ace54f0>"
      ]
     },
     "execution_count": 195,
     "metadata": {},
     "output_type": "execute_result"
    },
    {
     "data": {
      "image/png": "[encoded data removed]",
      "text/plain": [
       "<Figure size 640x480 with 2 Axes>"
      ]
     },
     "metadata": {},
     "output_type": "display_data"
    }
   ],
   "source": [
    "ConfusionMatrixDisplay.from_predictions(y_smote,gb_predict)"
   ]
  },
  {
   "cell_type": "code",
   "execution_count": 1,
   "id": "f1465d4e",
   "metadata": {},
   "outputs": [
    {
     "ename": "NameError",
     "evalue": "name 'RocCurveDisplay' is not defined",
     "output_type": "error",
     "traceback": [
      "\u001b[1;31m---------------------------------------------------------------------------\u001b[0m",
      "\u001b[1;31mNameError\u001b[0m                                 Traceback (most recent call last)",
      "\u001b[1;32m~\\AppData\\Local\\Temp\\ipykernel_11908\\2656281224.py\u001b[0m in \u001b[0;36m<module>\u001b[1;34m\u001b[0m\n\u001b[1;32m----> 1\u001b[1;33m \u001b[0mRocCurveDisplay\u001b[0m\u001b[1;33m.\u001b[0m\u001b[0mfrom_estimator\u001b[0m\u001b[1;33m(\u001b[0m\u001b[0mrf_model\u001b[0m\u001b[1;33m,\u001b[0m\u001b[0mx_smote\u001b[0m\u001b[1;33m,\u001b[0m\u001b[0my_smote\u001b[0m\u001b[1;33m)\u001b[0m\u001b[1;33m\u001b[0m\u001b[1;33m\u001b[0m\u001b[0m\n\u001b[0m\u001b[0;32m      2\u001b[0m \u001b[1;31m#Roc for Random forest model\u001b[0m\u001b[1;33m\u001b[0m\u001b[1;33m\u001b[0m\u001b[1;33m\u001b[0m\u001b[0m\n",
      "\u001b[1;31mNameError\u001b[0m: name 'RocCurveDisplay' is not defined"
     ]
    }
   ],
   "source": [
    "RocCurveDisplay.from_estimator(rf_model,x_smote,y_smote)\n",
    "#Roc for Random forest model"
   ]
  },
  {
   "cell_type": "markdown",
   "id": "088f17fd",
   "metadata": {},
   "source": [
    "Logistic Regression is the best model as the cross validation score is nearer compared to other models"
   ]
  },
  {
   "cell_type": "code",
   "execution_count": null,
   "id": "d8f92ee0",
   "metadata": {},
   "outputs": [],
   "source": []
  }
 ],
 "metadata": {
  "kernelspec": {
   "display_name": "Python 3 (ipykernel)",
   "language": "python",
   "name": "python3"
  },
  "language_info": {
   "codemirror_mode": {
    "name": "ipython",
    "version": 3
   },
   "file_extension": ".py",
   "mimetype": "text/x-python",
   "name": "python",
   "nbconvert_exporter": "python",
   "pygments_lexer": "ipython3",
   "version": "3.8.15"
  }
 },
 "nbformat": 4,
 "nbformat_minor": 5
}
